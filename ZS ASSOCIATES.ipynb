{
 "cells": [
  {
   "cell_type": "code",
   "execution_count": 1,
   "metadata": {},
   "outputs": [
    {
     "name": "stdout",
     "output_type": "stream",
     "text": [
      "[Errno 2] No such file or directory: 'Documents'\n",
      "/home/saksham/Documents\n"
     ]
    }
   ],
   "source": [
    "cd Documents"
   ]
  },
  {
   "cell_type": "code",
   "execution_count": 2,
   "metadata": {},
   "outputs": [],
   "source": [
    "import numpy as np \n",
    "import pandas as pd\n",
    "import matplotlib.pyplot as plt\n",
    "from sklearn.preprocessing import LabelEncoder\n",
    "%matplotlib inline\n",
    "from sklearn.model_selection import train_test_split\n",
    "from sklearn.model_selection import StratifiedShuffleSplit\n",
    "import seaborn as sns\n",
    "from sklearn.model_selection import StratifiedKFold"
   ]
  },
  {
   "cell_type": "code",
   "execution_count": 3,
   "metadata": {},
   "outputs": [],
   "source": [
    "train=pd.read_csv(\"Hackearth/DS_Anti_Social_v1/DS_SOCIAL_NETWORK_TEST/train.csv\")\n",
    "test=pd.read_csv(\"Hackearth/DS_Anti_Social_v1/DS_SOCIAL_NETWORK_TEST/test.csv\")\n"
   ]
  },
  {
   "cell_type": "code",
   "execution_count": 4,
   "metadata": {},
   "outputs": [
    {
     "data": {
      "text/html": [
       "<div>\n",
       "<style scoped>\n",
       "    .dataframe tbody tr th:only-of-type {\n",
       "        vertical-align: middle;\n",
       "    }\n",
       "\n",
       "    .dataframe tbody tr th {\n",
       "        vertical-align: top;\n",
       "    }\n",
       "\n",
       "    .dataframe thead th {\n",
       "        text-align: right;\n",
       "    }\n",
       "</style>\n",
       "<table border=\"1\" class=\"dataframe\">\n",
       "  <thead>\n",
       "    <tr style=\"text-align: right;\">\n",
       "      <th></th>\n",
       "      <th>uid</th>\n",
       "      <th>total_facebook_statuses</th>\n",
       "      <th>account_membership_period</th>\n",
       "      <th>service_support_calls</th>\n",
       "      <th>number_of_snaps</th>\n",
       "      <th>total_whatsapp_charge</th>\n",
       "      <th>sub_country_code</th>\n",
       "      <th>total_twitter_tweets</th>\n",
       "      <th>country</th>\n",
       "      <th>total_email_characters</th>\n",
       "      <th>...</th>\n",
       "      <th>social_account_number</th>\n",
       "      <th>total_whatsapp_msgs</th>\n",
       "      <th>total_facebook_charge</th>\n",
       "      <th>total_twitter_charge</th>\n",
       "      <th>snapchat_plan</th>\n",
       "      <th>total_email_charge</th>\n",
       "      <th>total_twitter_tweet_characters</th>\n",
       "      <th>total_emails</th>\n",
       "      <th>total_facebook_status_characters</th>\n",
       "      <th>turn_anti_social</th>\n",
       "    </tr>\n",
       "  </thead>\n",
       "  <tbody>\n",
       "    <tr>\n",
       "      <th>0</th>\n",
       "      <td>0</td>\n",
       "      <td>84</td>\n",
       "      <td>141</td>\n",
       "      <td>0</td>\n",
       "      <td>37</td>\n",
       "      <td>14.69</td>\n",
       "      <td>415</td>\n",
       "      <td>111</td>\n",
       "      <td>WV</td>\n",
       "      <td>11.2</td>\n",
       "      <td>...</td>\n",
       "      <td>330-8173</td>\n",
       "      <td>97</td>\n",
       "      <td>43.96</td>\n",
       "      <td>18.87</td>\n",
       "      <td>yes</td>\n",
       "      <td>3.02</td>\n",
       "      <td>222.0</td>\n",
       "      <td>5</td>\n",
       "      <td>258.6</td>\n",
       "      <td>0</td>\n",
       "    </tr>\n",
       "    <tr>\n",
       "      <th>1</th>\n",
       "      <td>1</td>\n",
       "      <td>99</td>\n",
       "      <td>108</td>\n",
       "      <td>2</td>\n",
       "      <td>30</td>\n",
       "      <td>NaN</td>\n",
       "      <td>510</td>\n",
       "      <td>113</td>\n",
       "      <td>LA</td>\n",
       "      <td>9.8</td>\n",
       "      <td>...</td>\n",
       "      <td>380-7624</td>\n",
       "      <td>95</td>\n",
       "      <td>47.02</td>\n",
       "      <td>18.71</td>\n",
       "      <td>yes</td>\n",
       "      <td>2.65</td>\n",
       "      <td>220.1</td>\n",
       "      <td>6</td>\n",
       "      <td>276.6</td>\n",
       "      <td>0</td>\n",
       "    </tr>\n",
       "    <tr>\n",
       "      <th>2</th>\n",
       "      <td>2</td>\n",
       "      <td>111</td>\n",
       "      <td>96</td>\n",
       "      <td>1</td>\n",
       "      <td>0</td>\n",
       "      <td>9.22</td>\n",
       "      <td>415</td>\n",
       "      <td>105</td>\n",
       "      <td>MA</td>\n",
       "      <td>9.1</td>\n",
       "      <td>...</td>\n",
       "      <td>359-9369</td>\n",
       "      <td>91</td>\n",
       "      <td>29.56</td>\n",
       "      <td>24.43</td>\n",
       "      <td>no</td>\n",
       "      <td>2.46</td>\n",
       "      <td>287.4</td>\n",
       "      <td>7</td>\n",
       "      <td>173.9</td>\n",
       "      <td>0</td>\n",
       "    </tr>\n",
       "    <tr>\n",
       "      <th>3</th>\n",
       "      <td>3</td>\n",
       "      <td>100</td>\n",
       "      <td>105</td>\n",
       "      <td>0</td>\n",
       "      <td>0</td>\n",
       "      <td>11.04</td>\n",
       "      <td>415</td>\n",
       "      <td>108</td>\n",
       "      <td>NV</td>\n",
       "      <td>7.7</td>\n",
       "      <td>...</td>\n",
       "      <td>376-4540</td>\n",
       "      <td>140</td>\n",
       "      <td>38.83</td>\n",
       "      <td>12.33</td>\n",
       "      <td>no</td>\n",
       "      <td>2.08</td>\n",
       "      <td>145.1</td>\n",
       "      <td>7</td>\n",
       "      <td>228.4</td>\n",
       "      <td>0</td>\n",
       "    </tr>\n",
       "    <tr>\n",
       "      <th>4</th>\n",
       "      <td>4</td>\n",
       "      <td>92</td>\n",
       "      <td>59</td>\n",
       "      <td>1</td>\n",
       "      <td>0</td>\n",
       "      <td>5.15</td>\n",
       "      <td>510</td>\n",
       "      <td>88</td>\n",
       "      <td>CO</td>\n",
       "      <td>12.5</td>\n",
       "      <td>...</td>\n",
       "      <td>331-3842</td>\n",
       "      <td>89</td>\n",
       "      <td>26.11</td>\n",
       "      <td>17.47</td>\n",
       "      <td>no</td>\n",
       "      <td>3.38</td>\n",
       "      <td>205.5</td>\n",
       "      <td>10</td>\n",
       "      <td>153.6</td>\n",
       "      <td>0</td>\n",
       "    </tr>\n",
       "  </tbody>\n",
       "</table>\n",
       "<p>5 rows × 22 columns</p>\n",
       "</div>"
      ],
      "text/plain": [
       "   uid  total_facebook_statuses  account_membership_period  \\\n",
       "0    0                       84                        141   \n",
       "1    1                       99                        108   \n",
       "2    2                      111                         96   \n",
       "3    3                      100                        105   \n",
       "4    4                       92                         59   \n",
       "\n",
       "   service_support_calls  number_of_snaps  total_whatsapp_charge  \\\n",
       "0                      0               37                  14.69   \n",
       "1                      2               30                    NaN   \n",
       "2                      1                0                   9.22   \n",
       "3                      0                0                  11.04   \n",
       "4                      1                0                   5.15   \n",
       "\n",
       "   sub_country_code  total_twitter_tweets country  total_email_characters  \\\n",
       "0               415                   111      WV                    11.2   \n",
       "1               510                   113      LA                     9.8   \n",
       "2               415                   105      MA                     9.1   \n",
       "3               415                   108      NV                     7.7   \n",
       "4               510                    88      CO                    12.5   \n",
       "\n",
       "         ...        social_account_number  total_whatsapp_msgs  \\\n",
       "0        ...                     330-8173                   97   \n",
       "1        ...                     380-7624                   95   \n",
       "2        ...                     359-9369                   91   \n",
       "3        ...                     376-4540                  140   \n",
       "4        ...                     331-3842                   89   \n",
       "\n",
       "  total_facebook_charge  total_twitter_charge  snapchat_plan  \\\n",
       "0                 43.96                 18.87            yes   \n",
       "1                 47.02                 18.71            yes   \n",
       "2                 29.56                 24.43             no   \n",
       "3                 38.83                 12.33             no   \n",
       "4                 26.11                 17.47             no   \n",
       "\n",
       "   total_email_charge total_twitter_tweet_characters  total_emails  \\\n",
       "0                3.02                          222.0             5   \n",
       "1                2.65                          220.1             6   \n",
       "2                2.46                          287.4             7   \n",
       "3                2.08                          145.1             7   \n",
       "4                3.38                          205.5            10   \n",
       "\n",
       "   total_facebook_status_characters  turn_anti_social  \n",
       "0                             258.6                 0  \n",
       "1                             276.6                 0  \n",
       "2                             173.9                 0  \n",
       "3                             228.4                 0  \n",
       "4                             153.6                 0  \n",
       "\n",
       "[5 rows x 22 columns]"
      ]
     },
     "execution_count": 4,
     "metadata": {},
     "output_type": "execute_result"
    }
   ],
   "source": [
    "train.head()"
   ]
  },
  {
   "cell_type": "markdown",
   "metadata": {},
   "source": [
    "# Exploring and Cleaning Data"
   ]
  },
  {
   "cell_type": "code",
   "execution_count": 5,
   "metadata": {},
   "outputs": [
    {
     "data": {
      "text/plain": [
       "Index(['uid', 'total_facebook_statuses', 'account_membership_period',\n",
       "       'service_support_calls', 'number_of_snaps', 'total_whatsapp_charge',\n",
       "       'sub_country_code', 'total_twitter_tweets', 'country',\n",
       "       'total_email_characters', 'email_plan', 'total_whatsapp_msg_characters',\n",
       "       'social_account_number', 'total_whatsapp_msgs', 'total_facebook_charge',\n",
       "       'total_twitter_charge', 'snapchat_plan', 'total_email_charge',\n",
       "       'total_twitter_tweet_characters', 'total_emails',\n",
       "       'total_facebook_status_characters', 'turn_anti_social'],\n",
       "      dtype='object')"
      ]
     },
     "execution_count": 5,
     "metadata": {},
     "output_type": "execute_result"
    }
   ],
   "source": [
    "train.columns"
   ]
  },
  {
   "cell_type": "code",
   "execution_count": 6,
   "metadata": {},
   "outputs": [],
   "source": [
    "Y_train=train[\"turn_anti_social\"]\n",
    "train.drop(\"turn_anti_social\",axis=1,inplace=True)\n",
    "train.drop(\"uid\",axis=1,inplace=True)"
   ]
  },
  {
   "cell_type": "code",
   "execution_count": 7,
   "metadata": {},
   "outputs": [],
   "source": [
    "cat_var=[ i  for i in train.columns if train[i].dtype==\"object\" ]\n",
    "cont_var=[i for i in train.columns if train[i].dtype!=\"object\"]"
   ]
  },
  {
   "cell_type": "code",
   "execution_count": 8,
   "metadata": {},
   "outputs": [
    {
     "data": {
      "text/html": [
       "<div>\n",
       "<style scoped>\n",
       "    .dataframe tbody tr th:only-of-type {\n",
       "        vertical-align: middle;\n",
       "    }\n",
       "\n",
       "    .dataframe tbody tr th {\n",
       "        vertical-align: top;\n",
       "    }\n",
       "\n",
       "    .dataframe thead th {\n",
       "        text-align: right;\n",
       "    }\n",
       "</style>\n",
       "<table border=\"1\" class=\"dataframe\">\n",
       "  <thead>\n",
       "    <tr style=\"text-align: right;\">\n",
       "      <th></th>\n",
       "      <th>total_facebook_statuses</th>\n",
       "      <th>account_membership_period</th>\n",
       "      <th>service_support_calls</th>\n",
       "      <th>number_of_snaps</th>\n",
       "      <th>total_whatsapp_charge</th>\n",
       "      <th>sub_country_code</th>\n",
       "      <th>total_twitter_tweets</th>\n",
       "      <th>total_email_characters</th>\n",
       "      <th>total_whatsapp_msg_characters</th>\n",
       "      <th>total_whatsapp_msgs</th>\n",
       "      <th>total_facebook_charge</th>\n",
       "      <th>total_twitter_charge</th>\n",
       "      <th>total_email_charge</th>\n",
       "      <th>total_twitter_tweet_characters</th>\n",
       "      <th>total_emails</th>\n",
       "      <th>total_facebook_status_characters</th>\n",
       "    </tr>\n",
       "  </thead>\n",
       "  <tbody>\n",
       "    <tr>\n",
       "      <th>count</th>\n",
       "      <td>2233.000000</td>\n",
       "      <td>2233.000000</td>\n",
       "      <td>2233.000000</td>\n",
       "      <td>2233.000000</td>\n",
       "      <td>2021.000000</td>\n",
       "      <td>2233.000000</td>\n",
       "      <td>2233.000000</td>\n",
       "      <td>2016.000000</td>\n",
       "      <td>2233.000000</td>\n",
       "      <td>2233.000000</td>\n",
       "      <td>2233.000000</td>\n",
       "      <td>2233.000000</td>\n",
       "      <td>2233.000000</td>\n",
       "      <td>2019.000000</td>\n",
       "      <td>2233.000000</td>\n",
       "      <td>2018.000000</td>\n",
       "    </tr>\n",
       "    <tr>\n",
       "      <th>mean</th>\n",
       "      <td>100.699955</td>\n",
       "      <td>100.511867</td>\n",
       "      <td>1.564263</td>\n",
       "      <td>8.069413</td>\n",
       "      <td>9.044572</td>\n",
       "      <td>436.746082</td>\n",
       "      <td>100.343932</td>\n",
       "      <td>10.244990</td>\n",
       "      <td>200.785132</td>\n",
       "      <td>99.876847</td>\n",
       "      <td>30.614344</td>\n",
       "      <td>17.094734</td>\n",
       "      <td>2.762064</td>\n",
       "      <td>201.945319</td>\n",
       "      <td>4.454993</td>\n",
       "      <td>179.861843</td>\n",
       "    </tr>\n",
       "    <tr>\n",
       "      <th>std</th>\n",
       "      <td>20.010022</td>\n",
       "      <td>39.901300</td>\n",
       "      <td>1.326769</td>\n",
       "      <td>13.725095</td>\n",
       "      <td>2.301464</td>\n",
       "      <td>42.135476</td>\n",
       "      <td>20.016748</td>\n",
       "      <td>2.790821</td>\n",
       "      <td>50.981357</td>\n",
       "      <td>19.544787</td>\n",
       "      <td>9.261162</td>\n",
       "      <td>4.309337</td>\n",
       "      <td>0.752724</td>\n",
       "      <td>50.509510</td>\n",
       "      <td>2.451659</td>\n",
       "      <td>54.084138</td>\n",
       "    </tr>\n",
       "    <tr>\n",
       "      <th>min</th>\n",
       "      <td>30.000000</td>\n",
       "      <td>1.000000</td>\n",
       "      <td>0.000000</td>\n",
       "      <td>0.000000</td>\n",
       "      <td>1.040000</td>\n",
       "      <td>408.000000</td>\n",
       "      <td>0.000000</td>\n",
       "      <td>0.000000</td>\n",
       "      <td>23.200000</td>\n",
       "      <td>33.000000</td>\n",
       "      <td>0.440000</td>\n",
       "      <td>0.000000</td>\n",
       "      <td>0.000000</td>\n",
       "      <td>0.000000</td>\n",
       "      <td>0.000000</td>\n",
       "      <td>2.600000</td>\n",
       "    </tr>\n",
       "    <tr>\n",
       "      <th>25%</th>\n",
       "      <td>88.000000</td>\n",
       "      <td>73.000000</td>\n",
       "      <td>1.000000</td>\n",
       "      <td>0.000000</td>\n",
       "      <td>7.500000</td>\n",
       "      <td>408.000000</td>\n",
       "      <td>87.000000</td>\n",
       "      <td>8.500000</td>\n",
       "      <td>166.700000</td>\n",
       "      <td>86.000000</td>\n",
       "      <td>24.430000</td>\n",
       "      <td>14.150000</td>\n",
       "      <td>2.300000</td>\n",
       "      <td>167.200000</td>\n",
       "      <td>3.000000</td>\n",
       "      <td>143.625000</td>\n",
       "    </tr>\n",
       "    <tr>\n",
       "      <th>50%</th>\n",
       "      <td>101.000000</td>\n",
       "      <td>99.000000</td>\n",
       "      <td>1.000000</td>\n",
       "      <td>0.000000</td>\n",
       "      <td>9.080000</td>\n",
       "      <td>415.000000</td>\n",
       "      <td>100.000000</td>\n",
       "      <td>10.300000</td>\n",
       "      <td>201.400000</td>\n",
       "      <td>100.000000</td>\n",
       "      <td>30.480000</td>\n",
       "      <td>17.110000</td>\n",
       "      <td>2.780000</td>\n",
       "      <td>202.900000</td>\n",
       "      <td>4.000000</td>\n",
       "      <td>179.200000</td>\n",
       "    </tr>\n",
       "    <tr>\n",
       "      <th>75%</th>\n",
       "      <td>114.000000</td>\n",
       "      <td>127.000000</td>\n",
       "      <td>2.000000</td>\n",
       "      <td>19.000000</td>\n",
       "      <td>10.620000</td>\n",
       "      <td>415.000000</td>\n",
       "      <td>114.000000</td>\n",
       "      <td>12.000000</td>\n",
       "      <td>235.400000</td>\n",
       "      <td>113.000000</td>\n",
       "      <td>36.750000</td>\n",
       "      <td>19.930000</td>\n",
       "      <td>3.240000</td>\n",
       "      <td>235.100000</td>\n",
       "      <td>6.000000</td>\n",
       "      <td>215.675000</td>\n",
       "    </tr>\n",
       "    <tr>\n",
       "      <th>max</th>\n",
       "      <td>165.000000</td>\n",
       "      <td>232.000000</td>\n",
       "      <td>9.000000</td>\n",
       "      <td>50.000000</td>\n",
       "      <td>17.770000</td>\n",
       "      <td>510.000000</td>\n",
       "      <td>170.000000</td>\n",
       "      <td>20.000000</td>\n",
       "      <td>395.000000</td>\n",
       "      <td>175.000000</td>\n",
       "      <td>58.960000</td>\n",
       "      <td>30.910000</td>\n",
       "      <td>5.400000</td>\n",
       "      <td>363.700000</td>\n",
       "      <td>18.000000</td>\n",
       "      <td>346.800000</td>\n",
       "    </tr>\n",
       "  </tbody>\n",
       "</table>\n",
       "</div>"
      ],
      "text/plain": [
       "       total_facebook_statuses  account_membership_period  \\\n",
       "count              2233.000000                2233.000000   \n",
       "mean                100.699955                 100.511867   \n",
       "std                  20.010022                  39.901300   \n",
       "min                  30.000000                   1.000000   \n",
       "25%                  88.000000                  73.000000   \n",
       "50%                 101.000000                  99.000000   \n",
       "75%                 114.000000                 127.000000   \n",
       "max                 165.000000                 232.000000   \n",
       "\n",
       "       service_support_calls  number_of_snaps  total_whatsapp_charge  \\\n",
       "count            2233.000000      2233.000000            2021.000000   \n",
       "mean                1.564263         8.069413               9.044572   \n",
       "std                 1.326769        13.725095               2.301464   \n",
       "min                 0.000000         0.000000               1.040000   \n",
       "25%                 1.000000         0.000000               7.500000   \n",
       "50%                 1.000000         0.000000               9.080000   \n",
       "75%                 2.000000        19.000000              10.620000   \n",
       "max                 9.000000        50.000000              17.770000   \n",
       "\n",
       "       sub_country_code  total_twitter_tweets  total_email_characters  \\\n",
       "count       2233.000000           2233.000000             2016.000000   \n",
       "mean         436.746082            100.343932               10.244990   \n",
       "std           42.135476             20.016748                2.790821   \n",
       "min          408.000000              0.000000                0.000000   \n",
       "25%          408.000000             87.000000                8.500000   \n",
       "50%          415.000000            100.000000               10.300000   \n",
       "75%          415.000000            114.000000               12.000000   \n",
       "max          510.000000            170.000000               20.000000   \n",
       "\n",
       "       total_whatsapp_msg_characters  total_whatsapp_msgs  \\\n",
       "count                    2233.000000          2233.000000   \n",
       "mean                      200.785132            99.876847   \n",
       "std                        50.981357            19.544787   \n",
       "min                        23.200000            33.000000   \n",
       "25%                       166.700000            86.000000   \n",
       "50%                       201.400000           100.000000   \n",
       "75%                       235.400000           113.000000   \n",
       "max                       395.000000           175.000000   \n",
       "\n",
       "       total_facebook_charge  total_twitter_charge  total_email_charge  \\\n",
       "count            2233.000000           2233.000000         2233.000000   \n",
       "mean               30.614344             17.094734            2.762064   \n",
       "std                 9.261162              4.309337            0.752724   \n",
       "min                 0.440000              0.000000            0.000000   \n",
       "25%                24.430000             14.150000            2.300000   \n",
       "50%                30.480000             17.110000            2.780000   \n",
       "75%                36.750000             19.930000            3.240000   \n",
       "max                58.960000             30.910000            5.400000   \n",
       "\n",
       "       total_twitter_tweet_characters  total_emails  \\\n",
       "count                     2019.000000   2233.000000   \n",
       "mean                       201.945319      4.454993   \n",
       "std                         50.509510      2.451659   \n",
       "min                          0.000000      0.000000   \n",
       "25%                        167.200000      3.000000   \n",
       "50%                        202.900000      4.000000   \n",
       "75%                        235.100000      6.000000   \n",
       "max                        363.700000     18.000000   \n",
       "\n",
       "       total_facebook_status_characters  \n",
       "count                       2018.000000  \n",
       "mean                         179.861843  \n",
       "std                           54.084138  \n",
       "min                            2.600000  \n",
       "25%                          143.625000  \n",
       "50%                          179.200000  \n",
       "75%                          215.675000  \n",
       "max                          346.800000  "
      ]
     },
     "execution_count": 8,
     "metadata": {},
     "output_type": "execute_result"
    }
   ],
   "source": [
    "train.describe()"
   ]
  },
  {
   "cell_type": "code",
   "execution_count": 9,
   "metadata": {},
   "outputs": [
    {
     "data": {
      "text/plain": [
       "total_facebook_statuses             0.000000\n",
       "account_membership_period           0.000000\n",
       "service_support_calls               0.000000\n",
       "number_of_snaps                     0.000000\n",
       "total_whatsapp_charge               0.094940\n",
       "sub_country_code                    0.000000\n",
       "total_twitter_tweets                0.000000\n",
       "country                             0.000000\n",
       "total_email_characters              0.097179\n",
       "email_plan                          0.000000\n",
       "total_whatsapp_msg_characters       0.000000\n",
       "social_account_number               0.000000\n",
       "total_whatsapp_msgs                 0.000000\n",
       "total_facebook_charge               0.000000\n",
       "total_twitter_charge                0.000000\n",
       "snapchat_plan                       0.000000\n",
       "total_email_charge                  0.000000\n",
       "total_twitter_tweet_characters      0.095835\n",
       "total_emails                        0.000000\n",
       "total_facebook_status_characters    0.096283\n",
       "dtype: float64"
      ]
     },
     "execution_count": 9,
     "metadata": {},
     "output_type": "execute_result"
    }
   ],
   "source": [
    "train.isnull().sum(axis=0)/train.shape[0]"
   ]
  },
  {
   "cell_type": "code",
   "execution_count": 10,
   "metadata": {},
   "outputs": [
    {
     "data": {
      "text/plain": [
       "['country', 'email_plan', 'social_account_number', 'snapchat_plan']"
      ]
     },
     "execution_count": 10,
     "metadata": {},
     "output_type": "execute_result"
    }
   ],
   "source": [
    "cat_var"
   ]
  },
  {
   "cell_type": "code",
   "execution_count": 133,
   "metadata": {},
   "outputs": [
    {
     "data": {
      "text/plain": [
       "(2233, 20)"
      ]
     },
     "execution_count": 133,
     "metadata": {},
     "output_type": "execute_result"
    }
   ],
   "source": [
    "train.shape"
   ]
  },
  {
   "cell_type": "code",
   "execution_count": 132,
   "metadata": {},
   "outputs": [
    {
     "data": {
      "text/plain": [
       "(2233,)"
      ]
     },
     "execution_count": 132,
     "metadata": {},
     "output_type": "execute_result"
    }
   ],
   "source": [
    "## exploring cateagorical variables\n",
    "train[\"social_account_number\"].value_counts().shape"
   ]
  },
  {
   "cell_type": "code",
   "execution_count": 11,
   "metadata": {},
   "outputs": [
    {
     "data": {
      "text/plain": [
       "['total_facebook_statuses',\n",
       " 'account_membership_period',\n",
       " 'service_support_calls',\n",
       " 'number_of_snaps',\n",
       " 'total_whatsapp_charge',\n",
       " 'sub_country_code',\n",
       " 'total_twitter_tweets',\n",
       " 'total_email_characters',\n",
       " 'total_whatsapp_msg_characters',\n",
       " 'total_whatsapp_msgs',\n",
       " 'total_facebook_charge',\n",
       " 'total_twitter_charge',\n",
       " 'total_email_charge',\n",
       " 'total_twitter_tweet_characters',\n",
       " 'total_emails',\n",
       " 'total_facebook_status_characters']"
      ]
     },
     "execution_count": 11,
     "metadata": {},
     "output_type": "execute_result"
    }
   ],
   "source": [
    "cont_var"
   ]
  },
  {
   "cell_type": "markdown",
   "metadata": {},
   "source": [
    "### Data is Imbalanced"
   ]
  },
  {
   "cell_type": "code",
   "execution_count": 12,
   "metadata": {},
   "outputs": [
    {
     "data": {
      "text/plain": [
       "0    1910\n",
       "1     323\n",
       "Name: turn_anti_social, dtype: int64"
      ]
     },
     "execution_count": 12,
     "metadata": {},
     "output_type": "execute_result"
    }
   ],
   "source": [
    "Y_train.value_counts()"
   ]
  },
  {
   "cell_type": "code",
   "execution_count": 13,
   "metadata": {},
   "outputs": [],
   "source": [
    "## imputing with mean values\n",
    "train.fillna(train.mean(),inplace=True)"
   ]
  },
  {
   "cell_type": "code",
   "execution_count": 14,
   "metadata": {},
   "outputs": [
    {
     "data": {
      "image/png": "[encoded data removed]",
      "text/plain": [
       "<Figure size 864x720 with 2 Axes>"
      ]
     },
     "metadata": {},
     "output_type": "display_data"
    }
   ],
   "source": [
    "##Corellation plot\n",
    "df=train[cont_var]\n",
    "corr=df.corr()\n",
    "plt.figure(figsize=(12,10))\n",
    "sns.heatmap(corr,annot=True,square=True,linewidths=.15)\n",
    "plt.xticks(label=cont_var,size='x-large',rotation='vertical')\n",
    "plt.yticks(y=cont_var,size='x-large',rotation='horizontal')\n",
    "plt.show()"
   ]
  },
  {
   "cell_type": "code",
   "execution_count": 15,
   "metadata": {},
   "outputs": [],
   "source": [
    "from sklearn.metrics import f1_score\n",
    "le=LabelEncoder()\n",
    "from sklearn.neighbors import KNeighborsClassifier"
   ]
  },
  {
   "cell_type": "code",
   "execution_count": 33,
   "metadata": {},
   "outputs": [],
   "source": [
    "X_train=train.copy()\n",
    "X_test=test.copy()\n",
    "X_test.drop(\"uid\",axis=1,inplace=True)"
   ]
  },
  {
   "cell_type": "code",
   "execution_count": 34,
   "metadata": {},
   "outputs": [
    {
     "data": {
      "text/plain": [
       "2233"
      ]
     },
     "execution_count": 34,
     "metadata": {},
     "output_type": "execute_result"
    }
   ],
   "source": [
    "train.shape[0]"
   ]
  },
  {
   "cell_type": "code",
   "execution_count": 35,
   "metadata": {},
   "outputs": [
    {
     "data": {
      "text/plain": [
       "(1100, 20)"
      ]
     },
     "execution_count": 35,
     "metadata": {},
     "output_type": "execute_result"
    }
   ],
   "source": [
    "X_test.shape"
   ]
  },
  {
   "cell_type": "code",
   "execution_count": 36,
   "metadata": {},
   "outputs": [
    {
     "name": "stdout",
     "output_type": "stream",
     "text": [
      "country\n",
      "email_plan\n",
      "social_account_number\n",
      "snapchat_plan\n"
     ]
    }
   ],
   "source": [
    "## label encoding\n",
    "for val in cat_var:\n",
    "    print(val)\n",
    "    final_col=X_train[val].append(X_test[val])\n",
    "    final_col=le.fit_transform(final_col)\n",
    "    X_train[val]=final_col[:train.shape[0]]\n",
    "    X_test[val]=final_col[train.shape[0]:]\n",
    "    \n",
    "    "
   ]
  },
  {
   "cell_type": "code",
   "execution_count": 37,
   "metadata": {},
   "outputs": [],
   "source": [
    "X_tr, X_val, y_tr, y_val=train_test_split(X_train,Y_train,test_size=.25,stratify=Y_train)"
   ]
  },
  {
   "cell_type": "code",
   "execution_count": 38,
   "metadata": {},
   "outputs": [],
   "source": [
    "X_tr.reset_index(inplace=True,drop=True)\n",
    "y_tr.reset_index(inplace=True,drop=True)\n",
    "X_val.reset_index(inplace=True,drop=True)\n",
    "y_val.reset_index(inplace=True,drop=True)"
   ]
  },
  {
   "cell_type": "code",
   "execution_count": 101,
   "metadata": {},
   "outputs": [
    {
     "data": {
      "text/plain": [
       "(1674, 21)"
      ]
     },
     "execution_count": 101,
     "metadata": {},
     "output_type": "execute_result"
    }
   ],
   "source": [
    "X_tr.shape"
   ]
  },
  {
   "cell_type": "code",
   "execution_count": 83,
   "metadata": {},
   "outputs": [
    {
     "data": {
      "text/plain": [
       "(559, 21)"
      ]
     },
     "execution_count": 83,
     "metadata": {},
     "output_type": "execute_result"
    }
   ],
   "source": [
    "X_val.shape"
   ]
  },
  {
   "cell_type": "code",
   "execution_count": 20,
   "metadata": {},
   "outputs": [
    {
     "data": {
      "text/plain": [
       "0    1432\n",
       "1     242\n",
       "Name: turn_anti_social, dtype: int64"
      ]
     },
     "execution_count": 20,
     "metadata": {},
     "output_type": "execute_result"
    }
   ],
   "source": [
    "y_tr.value_counts()"
   ]
  },
  {
   "cell_type": "code",
   "execution_count": 19,
   "metadata": {},
   "outputs": [
    {
     "data": {
      "text/plain": [
       "0    478\n",
       "1     81\n",
       "Name: turn_anti_social, dtype: int64"
      ]
     },
     "execution_count": 19,
     "metadata": {},
     "output_type": "execute_result"
    }
   ],
   "source": [
    "y_val.value_counts()"
   ]
  },
  {
   "cell_type": "markdown",
   "metadata": {},
   "source": [
    "# Model Building and Fine Tuning"
   ]
  },
  {
   "cell_type": "markdown",
   "metadata": {},
   "source": [
    "## KNN"
   ]
  },
  {
   "cell_type": "code",
   "execution_count": 21,
   "metadata": {},
   "outputs": [],
   "source": [
    "def nearest_neighbour(X_train,y_train,X_val,y_val,n=5,weight=\"uniform\"):\n",
    "    neigh=KNeighborsClassifier(n_neighbors=n,weights=weight)\n",
    "    neigh.fit(X_train,y_train)\n",
    "    pred=neigh.predict(X_val)\n",
    "    #print(pred)\n",
    "    s=f1_score(y_val,pred)\n",
    "    print(\"score is {}\".format(s))\n",
    "    return neigh\n",
    "    "
   ]
  },
  {
   "cell_type": "code",
   "execution_count": 112,
   "metadata": {},
   "outputs": [
    {
     "name": "stdout",
     "output_type": "stream",
     "text": [
      "score is 0.09345794392523364\n"
     ]
    }
   ],
   "source": [
    "classifier_knn=nearest_neighbour(X_tr,y_tr,X_val,y_val,n=3,weight=\"distance\")"
   ]
  },
  {
   "cell_type": "code",
   "execution_count": 39,
   "metadata": {},
   "outputs": [],
   "source": [
    "from sklearn.linear_model import LogisticRegression"
   ]
  },
  {
   "cell_type": "markdown",
   "metadata": {},
   "source": [
    "## Logistic "
   ]
  },
  {
   "cell_type": "code",
   "execution_count": 23,
   "metadata": {},
   "outputs": [],
   "source": [
    "def Logistic(X_train,y_train,X_val,y_val,c=1,p=\"l2\"):\n",
    "    neigh=LogisticRegression(penalty=p,C=c)\n",
    "    neigh.fit(X_train,y_train)\n",
    "    pred=neigh.predict(X_val)\n",
    "    #print(pred)\n",
    "    s=f1_score(y_val,pred)\n",
    "    print(\"score is {}\".format(s))\n",
    "    return neigh,s\n",
    "    "
   ]
  },
  {
   "cell_type": "code",
   "execution_count": 127,
   "metadata": {
    "scrolled": true
   },
   "outputs": [
    {
     "name": "stdout",
     "output_type": "stream",
     "text": [
      "score is 0.09195402298850575\n",
      "score is 0.1348314606741573\n",
      "score is 0.17391304347826084\n",
      "score is 0.19354838709677416\n",
      "score is 0.21052631578947367\n",
      "score is 0.22916666666666663\n",
      "score is 0.22680412371134023\n",
      "score is 0.22448979591836732\n",
      "score is 0.22448979591836732\n",
      "score is 0.22448979591836732\n",
      "score is 0.26\n",
      "score is 0.26\n",
      "score is 0.26\n",
      "score is 0.3076923076923077\n",
      "score is 0.26\n",
      "score is 0.2745098039215686\n",
      "score is 0.3076923076923077\n",
      "score is 0.3076923076923077\n",
      "score is 0.3238095238095238\n",
      "score is 0.3076923076923077\n",
      "score is 0.30476190476190473\n",
      "score is 0.3364485981308411\n",
      "score is 0.30476190476190473\n",
      "score is 0.3333333333333333\n",
      "score is 0.3207547169811321\n",
      "score is 0.3486238532110092\n",
      "score is 0.3207547169811321\n",
      "score is 0.3207547169811321\n",
      "score is 0.3486238532110092\n",
      "score is 0.30476190476190473\n",
      "score is 0.3486238532110092\n",
      "score is 0.3018867924528302\n",
      "score is 0.30476190476190473\n",
      "score is 0.3207547169811321\n",
      "score is 0.36363636363636365\n",
      "score is 0.3018867924528302\n",
      "score is 0.3018867924528302\n",
      "score is 0.30476190476190473\n",
      "score is 0.3333333333333333\n",
      "score is 0.30476190476190473\n",
      "score is 0.2857142857142857\n",
      "score is 0.3207547169811321\n",
      "score is 0.3148148148148148\n",
      "score is 0.33027522935779813\n",
      "score is 0.33027522935779813\n",
      "score is 0.3207547169811321\n",
      "score is 0.3148148148148148\n",
      "score is 0.31775700934579443\n",
      "score is 0.3333333333333333\n",
      "score is 0.3076923076923077\n",
      "score is 0.32727272727272727\n",
      "score is 0.34545454545454546\n",
      "score is 0.35185185185185186\n",
      "score is 0.32432432432432434\n",
      "score is 0.31775700934579443\n",
      "score is 0.34234234234234234\n",
      "score is 0.2884615384615385\n",
      "score is 0.31775700934579443\n",
      "score is 0.31775700934579443\n",
      "score is 0.34234234234234234\n",
      "score is 0.30476190476190473\n",
      "score is 0.3076923076923077\n",
      "score is 0.31775700934579443\n",
      "score is 0.3148148148148148\n",
      "score is 0.3148148148148148\n",
      "score is 0.31775700934579443\n",
      "score is 0.35398230088495575\n",
      "score is 0.3148148148148148\n",
      "score is 0.2884615384615385\n",
      "score is 0.30476190476190473\n",
      "score is 0.3018867924528302\n",
      "score is 0.3148148148148148\n",
      "score is 0.3148148148148148\n",
      "score is 0.31775700934579443\n",
      "score is 0.32432432432432434\n",
      "score is 0.31775700934579443\n",
      "score is 0.31775700934579443\n",
      "score is 0.3018867924528302\n",
      "score is 0.32432432432432434\n",
      "score is 0.3119266055045872\n",
      "score is 0.3119266055045872\n",
      "score is 0.3018867924528302\n",
      "score is 0.3119266055045872\n",
      "score is 0.34545454545454546\n",
      "score is 0.30476190476190473\n",
      "score is 0.3148148148148148\n",
      "score is 0.32727272727272727\n",
      "score is 0.33027522935779813\n",
      "score is 0.3119266055045872\n",
      "score is 0.3119266055045872\n",
      "score is 0.34234234234234234\n",
      "score is 0.30476190476190473\n",
      "score is 0.32727272727272727\n",
      "score is 0.2912621359223301\n",
      "score is 0.3119266055045872\n",
      "score is 0.32727272727272727\n",
      "score is 0.32727272727272727\n",
      "score is 0.32727272727272727\n",
      "score is 0.3119266055045872\n"
     ]
    }
   ],
   "source": [
    "score=0\n",
    "best_C=0\n",
    "for c in np.arange(0.01,1,0.01):\n",
    "    classifier_logistic,s=Logistic(X_tr,y_tr,X_val,y_val,c=c,p=\"l2\")\n",
    "    if s>score:\n",
    "        score=s\n",
    "        best_C=c\n"
   ]
  },
  {
   "cell_type": "code",
   "execution_count": 128,
   "metadata": {},
   "outputs": [
    {
     "data": {
      "text/plain": [
       "0.35000000000000003"
      ]
     },
     "execution_count": 128,
     "metadata": {},
     "output_type": "execute_result"
    }
   ],
   "source": [
    "best_C"
   ]
  },
  {
   "cell_type": "code",
   "execution_count": 132,
   "metadata": {},
   "outputs": [
    {
     "name": "stdout",
     "output_type": "stream",
     "text": [
      "score is 0.36363636363636365\n"
     ]
    }
   ],
   "source": [
    "classifier_logistic=Logistic(X_tr,y_tr,X_val,y_val,c=0.35000000000000003,p=\"l2\")"
   ]
  },
  {
   "cell_type": "markdown",
   "metadata": {},
   "source": [
    "## Ridge"
   ]
  },
  {
   "cell_type": "code",
   "execution_count": 22,
   "metadata": {},
   "outputs": [],
   "source": [
    "from sklearn.linear_model import RidgeClassifier"
   ]
  },
  {
   "cell_type": "code",
   "execution_count": 25,
   "metadata": {},
   "outputs": [],
   "source": [
    "def Ridge_clff(X_train,y_train,X_val,y_val,a=1.0):\n",
    "    neigh=RidgeClassifier(alpha=a)\n",
    "    neigh.fit(X_train,y_train)\n",
    "    pred=neigh.predict(X_val)\n",
    "    #print(pred)\n",
    "    s=f1_score(y_val,pred)\n",
    "    print(\"score is {}\".format(s))\n",
    "    return neigh,s\n",
    "    "
   ]
  },
  {
   "cell_type": "code",
   "execution_count": 141,
   "metadata": {
    "scrolled": true
   },
   "outputs": [
    {
     "name": "stdout",
     "output_type": "stream",
     "text": [
      "score is 0.2127659574468085\n",
      "score is 0.2127659574468085\n",
      "score is 0.2127659574468085\n",
      "score is 0.2127659574468085\n",
      "score is 0.2127659574468085\n",
      "score is 0.2127659574468085\n",
      "score is 0.2127659574468085\n",
      "score is 0.2127659574468085\n",
      "score is 0.2127659574468085\n",
      "score is 0.2127659574468085\n",
      "score is 0.2127659574468085\n",
      "score is 0.2127659574468085\n",
      "score is 0.2127659574468085\n",
      "score is 0.2127659574468085\n",
      "score is 0.2127659574468085\n",
      "score is 0.2127659574468085\n",
      "score is 0.2127659574468085\n",
      "score is 0.2127659574468085\n",
      "score is 0.2127659574468085\n",
      "score is 0.2127659574468085\n",
      "score is 0.2127659574468085\n",
      "score is 0.2127659574468085\n",
      "score is 0.2127659574468085\n",
      "score is 0.2127659574468085\n",
      "score is 0.2127659574468085\n",
      "score is 0.2127659574468085\n",
      "score is 0.2127659574468085\n",
      "score is 0.2127659574468085\n",
      "score is 0.2127659574468085\n",
      "score is 0.2127659574468085\n",
      "score is 0.2127659574468085\n",
      "score is 0.2127659574468085\n",
      "score is 0.2127659574468085\n",
      "score is 0.2127659574468085\n",
      "score is 0.2127659574468085\n",
      "score is 0.2127659574468085\n",
      "score is 0.2127659574468085\n",
      "score is 0.2127659574468085\n",
      "score is 0.2127659574468085\n",
      "score is 0.2127659574468085\n",
      "score is 0.2127659574468085\n",
      "score is 0.2127659574468085\n",
      "score is 0.2127659574468085\n",
      "score is 0.2127659574468085\n",
      "score is 0.2127659574468085\n",
      "score is 0.2127659574468085\n",
      "score is 0.2127659574468085\n",
      "score is 0.2127659574468085\n",
      "score is 0.2127659574468085\n",
      "score is 0.2127659574468085\n",
      "score is 0.2127659574468085\n",
      "score is 0.2127659574468085\n",
      "score is 0.2127659574468085\n",
      "score is 0.2127659574468085\n",
      "score is 0.2127659574468085\n",
      "score is 0.2127659574468085\n",
      "score is 0.2127659574468085\n",
      "score is 0.2127659574468085\n",
      "score is 0.2127659574468085\n",
      "score is 0.2127659574468085\n",
      "score is 0.2127659574468085\n",
      "score is 0.2127659574468085\n",
      "score is 0.2127659574468085\n",
      "score is 0.2127659574468085\n",
      "score is 0.2127659574468085\n",
      "score is 0.2127659574468085\n",
      "score is 0.2127659574468085\n",
      "score is 0.2127659574468085\n",
      "score is 0.2127659574468085\n",
      "score is 0.2127659574468085\n",
      "score is 0.2127659574468085\n",
      "score is 0.2127659574468085\n",
      "score is 0.2127659574468085\n",
      "score is 0.2127659574468085\n",
      "score is 0.2127659574468085\n",
      "score is 0.2127659574468085\n",
      "score is 0.2127659574468085\n",
      "score is 0.2127659574468085\n",
      "score is 0.2127659574468085\n",
      "score is 0.2127659574468085\n",
      "score is 0.2127659574468085\n",
      "score is 0.2127659574468085\n",
      "score is 0.2127659574468085\n",
      "score is 0.2127659574468085\n",
      "score is 0.2127659574468085\n",
      "score is 0.2127659574468085\n",
      "score is 0.2127659574468085\n",
      "score is 0.2127659574468085\n",
      "score is 0.2127659574468085\n",
      "score is 0.2127659574468085\n",
      "score is 0.2127659574468085\n",
      "score is 0.2127659574468085\n",
      "score is 0.2127659574468085\n",
      "score is 0.2127659574468085\n",
      "score is 0.2127659574468085\n",
      "score is 0.2127659574468085\n",
      "score is 0.2127659574468085\n",
      "score is 0.2127659574468085\n",
      "score is 0.2127659574468085\n"
     ]
    }
   ],
   "source": [
    "score=0\n",
    "best_C=0\n",
    "for c in np.arange(0.01,1,0.01):\n",
    "    classifier_Ridge,s=Ridge_clff(X_tr,y_tr,X_val,y_val,a=0.2)\n",
    "    if s>score:\n",
    "        score=s\n",
    "        best_C=c\n"
   ]
  },
  {
   "cell_type": "code",
   "execution_count": 142,
   "metadata": {},
   "outputs": [
    {
     "name": "stdout",
     "output_type": "stream",
     "text": [
      "score is 0.19354838709677416\n"
     ]
    }
   ],
   "source": [
    "classifier_Ridge=Ridge_clff(X_tr,y_tr,X_val,y_val,a=1)"
   ]
  },
  {
   "cell_type": "markdown",
   "metadata": {},
   "source": [
    "### Linear SVM"
   ]
  },
  {
   "cell_type": "code",
   "execution_count": 23,
   "metadata": {},
   "outputs": [],
   "source": [
    "from sklearn.svm import SVC"
   ]
  },
  {
   "cell_type": "code",
   "execution_count": 24,
   "metadata": {},
   "outputs": [],
   "source": [
    "def SVM_classifier(X_train,y_train,X_val,y_val,c=1.0):\n",
    "    neigh=SVC(C=c,class_weight=\"balanced\",kernel=\"linear\")\n",
    "    neigh.fit(X_train,y_train)\n",
    "    pred=neigh.predict(X_val)\n",
    "    print(pred)\n",
    "    s=f1_score(y_val,pred)\n",
    "    print(\"score is {}\".format(s))\n",
    "    return neigh,s\n",
    "    "
   ]
  },
  {
   "cell_type": "code",
   "execution_count": 37,
   "metadata": {},
   "outputs": [
    {
     "data": {
      "text/plain": [
       "SVC(C=1.0, cache_size=200, class_weight='balanced', coef0=0.0,\n",
       "  decision_function_shape='ovr', degree=3, gamma='auto', kernel='linear',\n",
       "  max_iter=-1, probability=False, random_state=None, shrinking=True,\n",
       "  tol=0.001, verbose=False)"
      ]
     },
     "execution_count": 37,
     "metadata": {},
     "output_type": "execute_result"
    }
   ],
   "source": [
    "neigh=SVC(C=1.0,kernel=\"linear\",class_weight=\"balanced\")\n",
    "neigh.fit(X_tr,y_tr)"
   ]
  },
  {
   "cell_type": "code",
   "execution_count": 38,
   "metadata": {},
   "outputs": [],
   "source": [
    "pred=neigh.predict(X_val)"
   ]
  },
  {
   "cell_type": "code",
   "execution_count": 39,
   "metadata": {},
   "outputs": [],
   "source": [
    "s=f1_score(y_val,pred)"
   ]
  },
  {
   "cell_type": "code",
   "execution_count": 40,
   "metadata": {},
   "outputs": [
    {
     "data": {
      "text/plain": [
       "0.44520547945205485"
      ]
     },
     "execution_count": 40,
     "metadata": {},
     "output_type": "execute_result"
    }
   ],
   "source": [
    "s"
   ]
  },
  {
   "cell_type": "markdown",
   "metadata": {},
   "source": [
    "## RandomForest Classifier"
   ]
  },
  {
   "cell_type": "code",
   "execution_count": 25,
   "metadata": {},
   "outputs": [],
   "source": [
    "from sklearn.ensemble import RandomForestClassifier"
   ]
  },
  {
   "cell_type": "code",
   "execution_count": 26,
   "metadata": {},
   "outputs": [],
   "source": [
    "def Rndmfrst_classifier(X_train,y_train,X_val,y_val,n=100,m=2):\n",
    "    neigh= RandomForestClassifier(n_estimators=n,max_depth=m,class_weight=None)\n",
    "    neigh.fit(X_train,y_train)\n",
    "    pred=neigh.predict(X_val)\n",
    "    #print(pred)\n",
    "    s=f1_score(y_val,pred)\n",
    "    print(\"score is {}\".format(s))\n",
    "    return neigh,s\n",
    "    "
   ]
  },
  {
   "cell_type": "code",
   "execution_count": 27,
   "metadata": {},
   "outputs": [
    {
     "name": "stdout",
     "output_type": "stream",
     "text": [
      "score is 0.7703703703703703\n"
     ]
    }
   ],
   "source": [
    "classifier_rndm,s=Rndmfrst_classifier(X_tr,y_tr,X_val,y_val,n=500,m=None)"
   ]
  },
  {
   "cell_type": "code",
   "execution_count": 112,
   "metadata": {},
   "outputs": [],
   "source": [
    "def Kfold_split(clf,X,y,X_test,n=5):\n",
    "    kf=StratifiedKFold(n_splits=n)\n",
    "    accuarcy=[]\n",
    "    prediction=np.zeros(len(X_test))\n",
    "    for tr_indices,tt_indices in kf.split(X,y):\n",
    "        X_train,X_val=X.loc[tr_indices],X.loc[tt_indices]\n",
    "        y_train,y_val=y.loc[tr_indices],y.loc[tt_indices]\n",
    "        y_train.reset_index(drop=True,inplace=True)\n",
    "        y_val.reset_index(drop=True,inplace=True)\n",
    "        #print(y_train)\n",
    "        clf.fit(X_train,y_train)\n",
    "        pred=clf.predict(X_val)\n",
    "        prediction+=clf.predict(X_test)\n",
    "        \n",
    "        #print(a)\n",
    "        s=f1_score(y_val,pred)\n",
    "        accuarcy.append(s)\n",
    "    print(accuarcy)\n",
    "    acc=sum(accuarcy)/len(accuarcy)\n",
    "    print(\"Accuarcy is {}\".format(acc))\n",
    "    prediction=[1 if i>2 else 0 for i in prediction  ]##This depends on n_folds\n",
    "    return (prediction,acc)\n",
    "    \n",
    "    "
   ]
  },
  {
   "cell_type": "code",
   "execution_count": 81,
   "metadata": {},
   "outputs": [
    {
     "name": "stdout",
     "output_type": "stream",
     "text": [
      "[0.7000000000000001, 0.7706422018348624, 0.6862745098039216, 0.8347826086956521, 0.5283018867924528]\n",
      "Accuarcy is 0.7040002414253779\n"
     ]
    }
   ],
   "source": [
    "clf_rndm=RandomForestClassifier(n_estimators=500)\n",
    "prediction,acc=Kfold_split(clf_rndm,X_train,Y_train,X_test)"
   ]
  },
  {
   "cell_type": "code",
   "execution_count": 82,
   "metadata": {
    "collapsed": true
   },
   "outputs": [
    {
     "data": {
      "text/plain": [
       "[0,\n",
       " 0,\n",
       " 0,\n",
       " 0,\n",
       " 0,\n",
       " 0,\n",
       " 0,\n",
       " 0,\n",
       " 0,\n",
       " 0,\n",
       " 0,\n",
       " 0,\n",
       " 0,\n",
       " 0,\n",
       " 0,\n",
       " 0,\n",
       " 0,\n",
       " 0,\n",
       " 0,\n",
       " 0,\n",
       " 0,\n",
       " 0,\n",
       " 0,\n",
       " 0,\n",
       " 1,\n",
       " 0,\n",
       " 0,\n",
       " 0,\n",
       " 0,\n",
       " 1,\n",
       " 0,\n",
       " 0,\n",
       " 0,\n",
       " 0,\n",
       " 1,\n",
       " 0,\n",
       " 0,\n",
       " 0,\n",
       " 1,\n",
       " 1,\n",
       " 0,\n",
       " 0,\n",
       " 0,\n",
       " 1,\n",
       " 0,\n",
       " 0,\n",
       " 0,\n",
       " 0,\n",
       " 0,\n",
       " 0,\n",
       " 0,\n",
       " 0,\n",
       " 0,\n",
       " 0,\n",
       " 0,\n",
       " 1,\n",
       " 0,\n",
       " 0,\n",
       " 0,\n",
       " 0,\n",
       " 0,\n",
       " 1,\n",
       " 0,\n",
       " 0,\n",
       " 0,\n",
       " 0,\n",
       " 0,\n",
       " 0,\n",
       " 0,\n",
       " 0,\n",
       " 0,\n",
       " 0,\n",
       " 0,\n",
       " 0,\n",
       " 0,\n",
       " 0,\n",
       " 1,\n",
       " 0,\n",
       " 0,\n",
       " 0,\n",
       " 0,\n",
       " 0,\n",
       " 0,\n",
       " 1,\n",
       " 0,\n",
       " 1,\n",
       " 0,\n",
       " 0,\n",
       " 0,\n",
       " 0,\n",
       " 0,\n",
       " 0,\n",
       " 0,\n",
       " 0,\n",
       " 1,\n",
       " 0,\n",
       " 0,\n",
       " 0,\n",
       " 1,\n",
       " 0,\n",
       " 0,\n",
       " 0,\n",
       " 0,\n",
       " 1,\n",
       " 0,\n",
       " 0,\n",
       " 1,\n",
       " 0,\n",
       " 0,\n",
       " 1,\n",
       " 0,\n",
       " 0,\n",
       " 0,\n",
       " 0,\n",
       " 0,\n",
       " 0,\n",
       " 0,\n",
       " 0,\n",
       " 0,\n",
       " 1,\n",
       " 0,\n",
       " 0,\n",
       " 0,\n",
       " 0,\n",
       " 1,\n",
       " 0,\n",
       " 0,\n",
       " 0,\n",
       " 1,\n",
       " 0,\n",
       " 0,\n",
       " 0,\n",
       " 1,\n",
       " 0,\n",
       " 0,\n",
       " 0,\n",
       " 0,\n",
       " 1,\n",
       " 0,\n",
       " 0,\n",
       " 0,\n",
       " 1,\n",
       " 1,\n",
       " 0,\n",
       " 0,\n",
       " 0,\n",
       " 0,\n",
       " 1,\n",
       " 0,\n",
       " 0,\n",
       " 0,\n",
       " 0,\n",
       " 0,\n",
       " 0,\n",
       " 0,\n",
       " 1,\n",
       " 0,\n",
       " 0,\n",
       " 0,\n",
       " 0,\n",
       " 0,\n",
       " 0,\n",
       " 0,\n",
       " 0,\n",
       " 0,\n",
       " 1,\n",
       " 0,\n",
       " 0,\n",
       " 0,\n",
       " 0,\n",
       " 0,\n",
       " 0,\n",
       " 0,\n",
       " 0,\n",
       " 0,\n",
       " 0,\n",
       " 0,\n",
       " 0,\n",
       " 0,\n",
       " 0,\n",
       " 0,\n",
       " 0,\n",
       " 0,\n",
       " 1,\n",
       " 0,\n",
       " 0,\n",
       " 1,\n",
       " 0,\n",
       " 0,\n",
       " 0,\n",
       " 0,\n",
       " 0,\n",
       " 0,\n",
       " 0,\n",
       " 0,\n",
       " 0,\n",
       " 0,\n",
       " 1,\n",
       " 0,\n",
       " 0,\n",
       " 0,\n",
       " 0,\n",
       " 0,\n",
       " 0,\n",
       " 0,\n",
       " 0,\n",
       " 0,\n",
       " 0,\n",
       " 0,\n",
       " 0,\n",
       " 0,\n",
       " 0,\n",
       " 0,\n",
       " 0,\n",
       " 0,\n",
       " 0,\n",
       " 0,\n",
       " 0,\n",
       " 0,\n",
       " 0,\n",
       " 0,\n",
       " 0,\n",
       " 0,\n",
       " 0,\n",
       " 0,\n",
       " 0,\n",
       " 0,\n",
       " 0,\n",
       " 0,\n",
       " 0,\n",
       " 1,\n",
       " 0,\n",
       " 0,\n",
       " 0,\n",
       " 0,\n",
       " 0,\n",
       " 0,\n",
       " 0,\n",
       " 0,\n",
       " 0,\n",
       " 0,\n",
       " 0,\n",
       " 0,\n",
       " 0,\n",
       " 0,\n",
       " 0,\n",
       " 0,\n",
       " 0,\n",
       " 0,\n",
       " 0,\n",
       " 0,\n",
       " 0,\n",
       " 1,\n",
       " 0,\n",
       " 0,\n",
       " 0,\n",
       " 0,\n",
       " 0,\n",
       " 1,\n",
       " 0,\n",
       " 0,\n",
       " 0,\n",
       " 0,\n",
       " 0,\n",
       " 0,\n",
       " 0,\n",
       " 0,\n",
       " 0,\n",
       " 0,\n",
       " 0,\n",
       " 0,\n",
       " 0,\n",
       " 0,\n",
       " 0,\n",
       " 0,\n",
       " 0,\n",
       " 0,\n",
       " 0,\n",
       " 1,\n",
       " 0,\n",
       " 0,\n",
       " 0,\n",
       " 0,\n",
       " 0,\n",
       " 0,\n",
       " 0,\n",
       " 0,\n",
       " 1,\n",
       " 0,\n",
       " 0,\n",
       " 0,\n",
       " 0,\n",
       " 0,\n",
       " 0,\n",
       " 0,\n",
       " 0,\n",
       " 0,\n",
       " 0,\n",
       " 0,\n",
       " 0,\n",
       " 0,\n",
       " 0,\n",
       " 0,\n",
       " 0,\n",
       " 1,\n",
       " 0,\n",
       " 0,\n",
       " 0,\n",
       " 0,\n",
       " 0,\n",
       " 1,\n",
       " 1,\n",
       " 0,\n",
       " 0,\n",
       " 0,\n",
       " 0,\n",
       " 1,\n",
       " 0,\n",
       " 0,\n",
       " 0,\n",
       " 0,\n",
       " 0,\n",
       " 0,\n",
       " 0,\n",
       " 0,\n",
       " 0,\n",
       " 1,\n",
       " 0,\n",
       " 0,\n",
       " 1,\n",
       " 1,\n",
       " 0,\n",
       " 0,\n",
       " 0,\n",
       " 0,\n",
       " 1,\n",
       " 0,\n",
       " 0,\n",
       " 0,\n",
       " 0,\n",
       " 0,\n",
       " 0,\n",
       " 0,\n",
       " 0,\n",
       " 0,\n",
       " 0,\n",
       " 1,\n",
       " 1,\n",
       " 0,\n",
       " 0,\n",
       " 0,\n",
       " 0,\n",
       " 0,\n",
       " 0,\n",
       " 0,\n",
       " 0,\n",
       " 0,\n",
       " 0,\n",
       " 0,\n",
       " 0,\n",
       " 0,\n",
       " 1,\n",
       " 0,\n",
       " 0,\n",
       " 0,\n",
       " 0,\n",
       " 0,\n",
       " 0,\n",
       " 0,\n",
       " 1,\n",
       " 0,\n",
       " 1,\n",
       " 0,\n",
       " 0,\n",
       " 0,\n",
       " 0,\n",
       " 0,\n",
       " 0,\n",
       " 0,\n",
       " 0,\n",
       " 0,\n",
       " 1,\n",
       " 0,\n",
       " 0,\n",
       " 0,\n",
       " 0,\n",
       " 1,\n",
       " 0,\n",
       " 0,\n",
       " 0,\n",
       " 0,\n",
       " 0,\n",
       " 0,\n",
       " 0,\n",
       " 0,\n",
       " 0,\n",
       " 0,\n",
       " 0,\n",
       " 1,\n",
       " 0,\n",
       " 0,\n",
       " 0,\n",
       " 0,\n",
       " 0,\n",
       " 0,\n",
       " 0,\n",
       " 0,\n",
       " 0,\n",
       " 0,\n",
       " 0,\n",
       " 0,\n",
       " 0,\n",
       " 0,\n",
       " 0,\n",
       " 1,\n",
       " 0,\n",
       " 0,\n",
       " 0,\n",
       " 0,\n",
       " 1,\n",
       " 0,\n",
       " 0,\n",
       " 0,\n",
       " 0,\n",
       " 0,\n",
       " 1,\n",
       " 0,\n",
       " 0,\n",
       " 0,\n",
       " 0,\n",
       " 0,\n",
       " 0,\n",
       " 0,\n",
       " 0,\n",
       " 0,\n",
       " 0,\n",
       " 0,\n",
       " 0,\n",
       " 0,\n",
       " 0,\n",
       " 0,\n",
       " 0,\n",
       " 0,\n",
       " 0,\n",
       " 0,\n",
       " 0,\n",
       " 0,\n",
       " 0,\n",
       " 0,\n",
       " 1,\n",
       " 0,\n",
       " 0,\n",
       " 0,\n",
       " 0,\n",
       " 0,\n",
       " 0,\n",
       " 0,\n",
       " 1,\n",
       " 0,\n",
       " 0,\n",
       " 0,\n",
       " 0,\n",
       " 0,\n",
       " 0,\n",
       " 0,\n",
       " 0,\n",
       " 0,\n",
       " 0,\n",
       " 0,\n",
       " 1,\n",
       " 0,\n",
       " 0,\n",
       " 0,\n",
       " 0,\n",
       " 0,\n",
       " 0,\n",
       " 0,\n",
       " 0,\n",
       " 0,\n",
       " 0,\n",
       " 0,\n",
       " 0,\n",
       " 0,\n",
       " 0,\n",
       " 0,\n",
       " 0,\n",
       " 0,\n",
       " 0,\n",
       " 0,\n",
       " 0,\n",
       " 0,\n",
       " 0,\n",
       " 0,\n",
       " 0,\n",
       " 0,\n",
       " 0,\n",
       " 0,\n",
       " 0,\n",
       " 1,\n",
       " 0,\n",
       " 0,\n",
       " 0,\n",
       " 0,\n",
       " 0,\n",
       " 0,\n",
       " 0,\n",
       " 0,\n",
       " 0,\n",
       " 0,\n",
       " 1,\n",
       " 0,\n",
       " 0,\n",
       " 0,\n",
       " 0,\n",
       " 0,\n",
       " 0,\n",
       " 0,\n",
       " 0,\n",
       " 0,\n",
       " 0,\n",
       " 0,\n",
       " 0,\n",
       " 0,\n",
       " 0,\n",
       " 0,\n",
       " 0,\n",
       " 0,\n",
       " 0,\n",
       " 0,\n",
       " 0,\n",
       " 0,\n",
       " 0,\n",
       " 0,\n",
       " 0,\n",
       " 0,\n",
       " 0,\n",
       " 0,\n",
       " 0,\n",
       " 0,\n",
       " 0,\n",
       " 0,\n",
       " 0,\n",
       " 0,\n",
       " 0,\n",
       " 0,\n",
       " 0,\n",
       " 0,\n",
       " 0,\n",
       " 1,\n",
       " 0,\n",
       " 1,\n",
       " 0,\n",
       " 0,\n",
       " 0,\n",
       " 0,\n",
       " 0,\n",
       " 0,\n",
       " 0,\n",
       " 0,\n",
       " 0,\n",
       " 0,\n",
       " 1,\n",
       " 0,\n",
       " 0,\n",
       " 0,\n",
       " 0,\n",
       " 0,\n",
       " 1,\n",
       " 0,\n",
       " 0,\n",
       " 0,\n",
       " 1,\n",
       " 0,\n",
       " 0,\n",
       " 0,\n",
       " 0,\n",
       " 1,\n",
       " 0,\n",
       " 0,\n",
       " 0,\n",
       " 0,\n",
       " 0,\n",
       " 0,\n",
       " 0,\n",
       " 0,\n",
       " 0,\n",
       " 0,\n",
       " 0,\n",
       " 0,\n",
       " 0,\n",
       " 0,\n",
       " 1,\n",
       " 0,\n",
       " 0,\n",
       " 0,\n",
       " 1,\n",
       " 0,\n",
       " 0,\n",
       " 0,\n",
       " 0,\n",
       " 0,\n",
       " 0,\n",
       " 0,\n",
       " 0,\n",
       " 0,\n",
       " 0,\n",
       " 0,\n",
       " 0,\n",
       " 0,\n",
       " 0,\n",
       " 0,\n",
       " 0,\n",
       " 0,\n",
       " 0,\n",
       " 0,\n",
       " 1,\n",
       " 1,\n",
       " 0,\n",
       " 0,\n",
       " 0,\n",
       " 0,\n",
       " 0,\n",
       " 0,\n",
       " 0,\n",
       " 0,\n",
       " 0,\n",
       " 0,\n",
       " 0,\n",
       " 0,\n",
       " 0,\n",
       " 1,\n",
       " 0,\n",
       " 0,\n",
       " 0,\n",
       " 0,\n",
       " 0,\n",
       " 0,\n",
       " 0,\n",
       " 0,\n",
       " 0,\n",
       " 0,\n",
       " 0,\n",
       " 0,\n",
       " 0,\n",
       " 0,\n",
       " 0,\n",
       " 0,\n",
       " 0,\n",
       " 0,\n",
       " 0,\n",
       " 0,\n",
       " 0,\n",
       " 0,\n",
       " 0,\n",
       " 0,\n",
       " 1,\n",
       " 0,\n",
       " 0,\n",
       " 0,\n",
       " 0,\n",
       " 0,\n",
       " 0,\n",
       " 0,\n",
       " 0,\n",
       " 0,\n",
       " 0,\n",
       " 0,\n",
       " 0,\n",
       " 0,\n",
       " 0,\n",
       " 0,\n",
       " 0,\n",
       " 0,\n",
       " 0,\n",
       " 0,\n",
       " 0,\n",
       " 0,\n",
       " 0,\n",
       " 0,\n",
       " 0,\n",
       " 0,\n",
       " 0,\n",
       " 1,\n",
       " 0,\n",
       " 0,\n",
       " 0,\n",
       " 0,\n",
       " 0,\n",
       " 1,\n",
       " 1,\n",
       " 0,\n",
       " 0,\n",
       " 0,\n",
       " 0,\n",
       " 0,\n",
       " 0,\n",
       " 0,\n",
       " 0,\n",
       " 0,\n",
       " 0,\n",
       " 0,\n",
       " 0,\n",
       " 0,\n",
       " 0,\n",
       " 0,\n",
       " 0,\n",
       " 0,\n",
       " 0,\n",
       " 0,\n",
       " 0,\n",
       " 0,\n",
       " 0,\n",
       " 0,\n",
       " 0,\n",
       " 0,\n",
       " 0,\n",
       " 0,\n",
       " 0,\n",
       " 0,\n",
       " 0,\n",
       " 0,\n",
       " 0,\n",
       " 0,\n",
       " 0,\n",
       " 0,\n",
       " 0,\n",
       " 0,\n",
       " 0,\n",
       " 1,\n",
       " 0,\n",
       " 0,\n",
       " 0,\n",
       " 0,\n",
       " 0,\n",
       " 0,\n",
       " 0,\n",
       " 0,\n",
       " 0,\n",
       " 0,\n",
       " 0,\n",
       " 1,\n",
       " 0,\n",
       " 0,\n",
       " 0,\n",
       " 0,\n",
       " 0,\n",
       " 0,\n",
       " 0,\n",
       " 0,\n",
       " 0,\n",
       " 0,\n",
       " 0,\n",
       " 1,\n",
       " 0,\n",
       " 0,\n",
       " 0,\n",
       " 0,\n",
       " 0,\n",
       " 0,\n",
       " 0,\n",
       " 0,\n",
       " 0,\n",
       " 0,\n",
       " 0,\n",
       " 1,\n",
       " 0,\n",
       " 0,\n",
       " 0,\n",
       " 0,\n",
       " 0,\n",
       " 1,\n",
       " 0,\n",
       " 0,\n",
       " 0,\n",
       " 0,\n",
       " 0,\n",
       " 0,\n",
       " 0,\n",
       " 0,\n",
       " 0,\n",
       " 0,\n",
       " 1,\n",
       " 0,\n",
       " 0,\n",
       " 0,\n",
       " 0,\n",
       " 0,\n",
       " 0,\n",
       " 0,\n",
       " 0,\n",
       " 0,\n",
       " 0,\n",
       " 0,\n",
       " 0,\n",
       " 0,\n",
       " 0,\n",
       " 0,\n",
       " 0,\n",
       " 0,\n",
       " 0,\n",
       " 0,\n",
       " 0,\n",
       " 0,\n",
       " 0,\n",
       " 0,\n",
       " 0,\n",
       " 0,\n",
       " 0,\n",
       " 0,\n",
       " 0,\n",
       " 0,\n",
       " 0,\n",
       " 0,\n",
       " 0,\n",
       " 0,\n",
       " 0,\n",
       " 0,\n",
       " 0,\n",
       " 0,\n",
       " 0,\n",
       " 0,\n",
       " 1,\n",
       " 0,\n",
       " 1,\n",
       " 0,\n",
       " 0,\n",
       " 0,\n",
       " 0,\n",
       " 0,\n",
       " 0,\n",
       " 0,\n",
       " 0,\n",
       " 0,\n",
       " 0,\n",
       " 0,\n",
       " 0,\n",
       " 0,\n",
       " 0,\n",
       " 0,\n",
       " 0,\n",
       " 0,\n",
       " 0,\n",
       " 0,\n",
       " 0,\n",
       " 0,\n",
       " 0,\n",
       " 0,\n",
       " 1,\n",
       " 1,\n",
       " 0,\n",
       " 0,\n",
       " 0,\n",
       " 0,\n",
       " 0,\n",
       " 1,\n",
       " 0,\n",
       " 0,\n",
       " 0,\n",
       " 0,\n",
       " 0,\n",
       " 0,\n",
       " 1,\n",
       " 0,\n",
       " 0,\n",
       " 0,\n",
       " 0,\n",
       " 0,\n",
       " 0,\n",
       " 0,\n",
       " 0,\n",
       " 0,\n",
       " 0,\n",
       " 0,\n",
       " 0,\n",
       " 0,\n",
       " 0,\n",
       " 0,\n",
       " 0,\n",
       " 0,\n",
       " 0,\n",
       " 0,\n",
       " 0,\n",
       " 0,\n",
       " 0,\n",
       " 0,\n",
       " 0,\n",
       " 0,\n",
       " 0,\n",
       " 1,\n",
       " 1,\n",
       " 0,\n",
       " 0,\n",
       " 0,\n",
       " 1,\n",
       " 1,\n",
       " 0,\n",
       " 1,\n",
       " 1,\n",
       " 0,\n",
       " 0,\n",
       " 0,\n",
       " 0,\n",
       " 0,\n",
       " 0,\n",
       " 0,\n",
       " 0,\n",
       " 0,\n",
       " 0,\n",
       " 0,\n",
       " 0,\n",
       " 0,\n",
       " 1,\n",
       " 0,\n",
       " 0,\n",
       " 0,\n",
       " 0,\n",
       " 0,\n",
       " 0,\n",
       " 0,\n",
       " 0,\n",
       " 0,\n",
       " 0,\n",
       " 0,\n",
       " 0,\n",
       " 0,\n",
       " 0,\n",
       " 0,\n",
       " 0,\n",
       " 0,\n",
       " 0,\n",
       " 0,\n",
       " 0,\n",
       " 0,\n",
       " 0,\n",
       " 1,\n",
       " 0,\n",
       " 0,\n",
       " 0,\n",
       " 0,\n",
       " 1,\n",
       " 0,\n",
       " 0,\n",
       " 0,\n",
       " 0,\n",
       " 1,\n",
       " 1,\n",
       " 0,\n",
       " 0,\n",
       " 1,\n",
       " 0,\n",
       " 0,\n",
       " 0,\n",
       " 0,\n",
       " 0,\n",
       " 0,\n",
       " 0,\n",
       " 0,\n",
       " 0,\n",
       " 0,\n",
       " 0,\n",
       " 0,\n",
       " 0,\n",
       " 0,\n",
       " 1,\n",
       " 0,\n",
       " 0,\n",
       " 0,\n",
       " 0,\n",
       " 0,\n",
       " 0,\n",
       " 0,\n",
       " 0,\n",
       " 1,\n",
       " 0,\n",
       " 0,\n",
       " 1,\n",
       " 0,\n",
       " 0,\n",
       " 0,\n",
       " 0,\n",
       " 0,\n",
       " 1,\n",
       " 0,\n",
       " 0,\n",
       " 0,\n",
       " 0,\n",
       " 0,\n",
       " 0,\n",
       " 0,\n",
       " 0,\n",
       " 0,\n",
       " 0,\n",
       " 0,\n",
       " 0,\n",
       " 0,\n",
       " 0,\n",
       " 0,\n",
       " 0,\n",
       " 0,\n",
       " 0,\n",
       " ...]"
      ]
     },
     "execution_count": 82,
     "metadata": {},
     "output_type": "execute_result"
    }
   ],
   "source": [
    "prediction"
   ]
  },
  {
   "cell_type": "code",
   "execution_count": 86,
   "metadata": {},
   "outputs": [],
   "source": [
    "sub=pd.DataFrame(test[\"uid\"])\n",
    "sub[\"turn_anti_social\"]=prediction\n",
    "sub.to_csv(\"Hackearth/DS_Anti_Social_v1/submission.csv\",index=False)"
   ]
  },
  {
   "cell_type": "code",
   "execution_count": 87,
   "metadata": {},
   "outputs": [
    {
     "data": {
      "text/html": [
       "<div>\n",
       "<style scoped>\n",
       "    .dataframe tbody tr th:only-of-type {\n",
       "        vertical-align: middle;\n",
       "    }\n",
       "\n",
       "    .dataframe tbody tr th {\n",
       "        vertical-align: top;\n",
       "    }\n",
       "\n",
       "    .dataframe thead th {\n",
       "        text-align: right;\n",
       "    }\n",
       "</style>\n",
       "<table border=\"1\" class=\"dataframe\">\n",
       "  <thead>\n",
       "    <tr style=\"text-align: right;\">\n",
       "      <th></th>\n",
       "      <th>uid</th>\n",
       "      <th>turn_anti_social</th>\n",
       "    </tr>\n",
       "  </thead>\n",
       "  <tbody>\n",
       "    <tr>\n",
       "      <th>0</th>\n",
       "      <td>0</td>\n",
       "      <td>0</td>\n",
       "    </tr>\n",
       "    <tr>\n",
       "      <th>1</th>\n",
       "      <td>1</td>\n",
       "      <td>0</td>\n",
       "    </tr>\n",
       "    <tr>\n",
       "      <th>2</th>\n",
       "      <td>2</td>\n",
       "      <td>0</td>\n",
       "    </tr>\n",
       "    <tr>\n",
       "      <th>3</th>\n",
       "      <td>3</td>\n",
       "      <td>0</td>\n",
       "    </tr>\n",
       "    <tr>\n",
       "      <th>4</th>\n",
       "      <td>4</td>\n",
       "      <td>0</td>\n",
       "    </tr>\n",
       "  </tbody>\n",
       "</table>\n",
       "</div>"
      ],
      "text/plain": [
       "   uid  turn_anti_social\n",
       "0    0                 0\n",
       "1    1                 0\n",
       "2    2                 0\n",
       "3    3                 0\n",
       "4    4                 0"
      ]
     },
     "execution_count": 87,
     "metadata": {},
     "output_type": "execute_result"
    }
   ],
   "source": [
    "sub.head()"
   ]
  },
  {
   "cell_type": "markdown",
   "metadata": {},
   "source": [
    "## XGBOOST CLASSIFIER"
   ]
  },
  {
   "cell_type": "code",
   "execution_count": 40,
   "metadata": {},
   "outputs": [],
   "source": [
    "from xgboost import XGBClassifier"
   ]
  },
  {
   "cell_type": "code",
   "execution_count": 41,
   "metadata": {},
   "outputs": [
    {
     "data": {
      "text/plain": [
       "XGBClassifier(base_score=0.5, booster='gbtree', colsample_bylevel=1,\n",
       "       colsample_bytree=1, gamma=0, learning_rate=0.001, max_delta_step=0,\n",
       "       max_depth=6, min_child_weight=1, missing=None, n_estimators=2000,\n",
       "       n_jobs=1, nthread=None, objective='binary:logistic', random_state=0,\n",
       "       reg_alpha=0, reg_lambda=1, scale_pos_weight=1, seed=None,\n",
       "       silent=True, subsample=1)"
      ]
     },
     "execution_count": 41,
     "metadata": {},
     "output_type": "execute_result"
    }
   ],
   "source": [
    "clf=XGBClassifier(n_estimators=2000,learning_rate=0.001,max_depth=6)\n",
    "\n",
    "clf.fit(X_tr,y_tr)\n"
   ]
  },
  {
   "cell_type": "code",
   "execution_count": 42,
   "metadata": {},
   "outputs": [
    {
     "name": "stderr",
     "output_type": "stream",
     "text": [
      "/home/saksham/.local/lib/python3.6/site-packages/sklearn/preprocessing/label.py:151: DeprecationWarning: The truth value of an empty array is ambiguous. Returning False, but in future this will result in an error. Use `array.size > 0` to check that an array is not empty.\n",
      "  if diff:\n"
     ]
    },
    {
     "data": {
      "text/plain": [
       "0.7625899280575539"
      ]
     },
     "execution_count": 42,
     "metadata": {},
     "output_type": "execute_result"
    }
   ],
   "source": [
    "pred=clf.predict(X_val)\n",
    "f1_score(y_val,pred)"
   ]
  },
  {
   "cell_type": "code",
   "execution_count": null,
   "metadata": {},
   "outputs": [],
   "source": []
  },
  {
   "cell_type": "code",
   "execution_count": 76,
   "metadata": {},
   "outputs": [
    {
     "name": "stderr",
     "output_type": "stream",
     "text": [
      "/home/saksham/.local/lib/python3.6/site-packages/sklearn/preprocessing/label.py:151: DeprecationWarning: The truth value of an empty array is ambiguous. Returning False, but in future this will result in an error. Use `array.size > 0` to check that an array is not empty.\n",
      "  if diff:\n",
      "/home/saksham/.local/lib/python3.6/site-packages/sklearn/preprocessing/label.py:151: DeprecationWarning: The truth value of an empty array is ambiguous. Returning False, but in future this will result in an error. Use `array.size > 0` to check that an array is not empty.\n",
      "  if diff:\n",
      "/home/saksham/.local/lib/python3.6/site-packages/sklearn/preprocessing/label.py:151: DeprecationWarning: The truth value of an empty array is ambiguous. Returning False, but in future this will result in an error. Use `array.size > 0` to check that an array is not empty.\n",
      "  if diff:\n",
      "/home/saksham/.local/lib/python3.6/site-packages/sklearn/preprocessing/label.py:151: DeprecationWarning: The truth value of an empty array is ambiguous. Returning False, but in future this will result in an error. Use `array.size > 0` to check that an array is not empty.\n",
      "  if diff:\n",
      "/home/saksham/.local/lib/python3.6/site-packages/sklearn/preprocessing/label.py:151: DeprecationWarning: The truth value of an empty array is ambiguous. Returning False, but in future this will result in an error. Use `array.size > 0` to check that an array is not empty.\n",
      "  if diff:\n",
      "/home/saksham/.local/lib/python3.6/site-packages/sklearn/preprocessing/label.py:151: DeprecationWarning: The truth value of an empty array is ambiguous. Returning False, but in future this will result in an error. Use `array.size > 0` to check that an array is not empty.\n",
      "  if diff:\n",
      "/home/saksham/.local/lib/python3.6/site-packages/sklearn/preprocessing/label.py:151: DeprecationWarning: The truth value of an empty array is ambiguous. Returning False, but in future this will result in an error. Use `array.size > 0` to check that an array is not empty.\n",
      "  if diff:\n",
      "/home/saksham/.local/lib/python3.6/site-packages/sklearn/preprocessing/label.py:151: DeprecationWarning: The truth value of an empty array is ambiguous. Returning False, but in future this will result in an error. Use `array.size > 0` to check that an array is not empty.\n",
      "  if diff:\n",
      "/home/saksham/.local/lib/python3.6/site-packages/sklearn/preprocessing/label.py:151: DeprecationWarning: The truth value of an empty array is ambiguous. Returning False, but in future this will result in an error. Use `array.size > 0` to check that an array is not empty.\n",
      "  if diff:\n"
     ]
    },
    {
     "name": "stdout",
     "output_type": "stream",
     "text": [
      "[0.8141592920353983, 0.8235294117647058, 0.7964601769911505, 0.8305084745762712, 0.8135593220338982]\n",
      "Accuarcy is 0.8156433354802848\n"
     ]
    },
    {
     "name": "stderr",
     "output_type": "stream",
     "text": [
      "/home/saksham/.local/lib/python3.6/site-packages/sklearn/preprocessing/label.py:151: DeprecationWarning: The truth value of an empty array is ambiguous. Returning False, but in future this will result in an error. Use `array.size > 0` to check that an array is not empty.\n",
      "  if diff:\n"
     ]
    }
   ],
   "source": [
    "prediction,acc=Kfold_split(clf,X_train,Y_train,X_test)"
   ]
  },
  {
   "cell_type": "code",
   "execution_count": 132,
   "metadata": {},
   "outputs": [],
   "source": [
    "sub=pd.DataFrame(test[\"uid\"])\n",
    "sub[\"turn_anti_social\"]=prediction\n",
    "sub.to_csv(\"Hackearth/DS_Anti_Social_v1/submission_2.csv\",index=False)"
   ]
  },
  {
   "cell_type": "markdown",
   "metadata": {},
   "source": [
    "### Best Model XGBOOST"
   ]
  },
  {
   "cell_type": "markdown",
   "metadata": {},
   "source": [
    "### Adressing the IMBALANCED CLass By Oversampling the minority class"
   ]
  },
  {
   "cell_type": "code",
   "execution_count": 127,
   "metadata": {},
   "outputs": [],
   "source": [
    "def Kfold_split_balnced(clf,X,y,X_test,n=5):\n",
    "    kf=StratifiedKFold(n_splits=n)\n",
    "    accuarcy=[]\n",
    "    prediction=np.zeros(len(X_test))\n",
    "    for tr_indices,tt_indices in kf.split(X,y):\n",
    "        X_train,X_val=X.loc[tr_indices],X.loc[tt_indices]\n",
    "        y_train,y_val=y.loc[tr_indices],y.loc[tt_indices]\n",
    "        y_train.reset_index(drop=True,inplace=True)\n",
    "        y_val.reset_index(drop=True,inplace=True)\n",
    "        index_pos=y_train[y_train==1].index\n",
    "        index_pos=[i for i in index_pos]\n",
    "        pos_pd=X_train.iloc[index_pos,:]\n",
    "        pos_pd.reset_index(inplace=True,drop=True)\n",
    "        pos_y=y_train.iloc[index_pos]\n",
    "        pos_y.reset_index(inplace=True,drop=True)\n",
    "        X_train_balanced=pd.concat([X_train,pos_pd])\n",
    "        Y_train_balnced=pd.concat([y_train,pos_y])\n",
    "        X_train_balanced.reset_index(inplace=True,drop=True)\n",
    "        Y_train_balnced.reset_index(inplace=True,drop=True)\n",
    "        #print(y_train)\n",
    "        clf.fit(X_train_balanced,Y_train_balnced)\n",
    "        pred=clf.predict(X_val)\n",
    "        prediction+=clf.predict(X_test)\n",
    "        \n",
    "        #print(a)\n",
    "        s=f1_score(y_val,pred)\n",
    "        accuarcy.append(s)\n",
    "    print(accuarcy)\n",
    "    acc=sum(accuarcy)/len(accuarcy)\n",
    "    print(\"Accuarcy is {}\".format(acc))\n",
    "    prediction=[1 if i>2 else 0 for i in prediction  ]##This depends on n_folds\n",
    "    return (prediction,acc)\n",
    "    \n",
    "    "
   ]
  },
  {
   "cell_type": "code",
   "execution_count": 128,
   "metadata": {},
   "outputs": [
    {
     "name": "stderr",
     "output_type": "stream",
     "text": [
      "/home/saksham/.local/lib/python3.6/site-packages/sklearn/preprocessing/label.py:151: DeprecationWarning: The truth value of an empty array is ambiguous. Returning False, but in future this will result in an error. Use `array.size > 0` to check that an array is not empty.\n",
      "  if diff:\n",
      "/home/saksham/.local/lib/python3.6/site-packages/sklearn/preprocessing/label.py:151: DeprecationWarning: The truth value of an empty array is ambiguous. Returning False, but in future this will result in an error. Use `array.size > 0` to check that an array is not empty.\n",
      "  if diff:\n",
      "/home/saksham/.local/lib/python3.6/site-packages/sklearn/preprocessing/label.py:151: DeprecationWarning: The truth value of an empty array is ambiguous. Returning False, but in future this will result in an error. Use `array.size > 0` to check that an array is not empty.\n",
      "  if diff:\n",
      "/home/saksham/.local/lib/python3.6/site-packages/sklearn/preprocessing/label.py:151: DeprecationWarning: The truth value of an empty array is ambiguous. Returning False, but in future this will result in an error. Use `array.size > 0` to check that an array is not empty.\n",
      "  if diff:\n",
      "/home/saksham/.local/lib/python3.6/site-packages/sklearn/preprocessing/label.py:151: DeprecationWarning: The truth value of an empty array is ambiguous. Returning False, but in future this will result in an error. Use `array.size > 0` to check that an array is not empty.\n",
      "  if diff:\n",
      "/home/saksham/.local/lib/python3.6/site-packages/sklearn/preprocessing/label.py:151: DeprecationWarning: The truth value of an empty array is ambiguous. Returning False, but in future this will result in an error. Use `array.size > 0` to check that an array is not empty.\n",
      "  if diff:\n",
      "/home/saksham/.local/lib/python3.6/site-packages/sklearn/preprocessing/label.py:151: DeprecationWarning: The truth value of an empty array is ambiguous. Returning False, but in future this will result in an error. Use `array.size > 0` to check that an array is not empty.\n",
      "  if diff:\n",
      "/home/saksham/.local/lib/python3.6/site-packages/sklearn/preprocessing/label.py:151: DeprecationWarning: The truth value of an empty array is ambiguous. Returning False, but in future this will result in an error. Use `array.size > 0` to check that an array is not empty.\n",
      "  if diff:\n",
      "/home/saksham/.local/lib/python3.6/site-packages/sklearn/preprocessing/label.py:151: DeprecationWarning: The truth value of an empty array is ambiguous. Returning False, but in future this will result in an error. Use `array.size > 0` to check that an array is not empty.\n",
      "  if diff:\n"
     ]
    },
    {
     "name": "stdout",
     "output_type": "stream",
     "text": [
      "[0.7931034482758621, 0.8403361344537816, 0.8067226890756303, 0.8196721311475409, 0.8455284552845529]\n",
      "Accuarcy is 0.8210725716474736\n"
     ]
    },
    {
     "name": "stderr",
     "output_type": "stream",
     "text": [
      "/home/saksham/.local/lib/python3.6/site-packages/sklearn/preprocessing/label.py:151: DeprecationWarning: The truth value of an empty array is ambiguous. Returning False, but in future this will result in an error. Use `array.size > 0` to check that an array is not empty.\n",
      "  if diff:\n"
     ]
    }
   ],
   "source": [
    "prediction,acc=Kfold_split_balnced(clf,X_train,Y_train,X_test)"
   ]
  },
  {
   "cell_type": "code",
   "execution_count": 134,
   "metadata": {},
   "outputs": [
    {
     "data": {
      "text/plain": [
       "['country', 'email_plan', 'social_account_number', 'snapchat_plan']"
      ]
     },
     "execution_count": 134,
     "metadata": {},
     "output_type": "execute_result"
    }
   ],
   "source": [
    "cat_var"
   ]
  },
  {
   "cell_type": "markdown",
   "metadata": {},
   "source": [
    "### Trying Dropping features with high Correlation"
   ]
  },
  {
   "cell_type": "code",
   "execution_count": 138,
   "metadata": {},
   "outputs": [],
   "source": [
    "## Social Account no.dropping in both train and test\n",
    "X_train_new=X_train.copy()\n",
    "X_test_new=X_test.copy()\n",
    "corelated_var=[\"total_email_charge\",\"total_facebook_charge\",\"total_whatsapp_charge\",\"total_twitter_charge\"]\n",
    "corelated_var+[\"social_account_number\"]\n",
    "\n",
    "X_train_new.drop(corelated_var,axis=1,inplace=True)\n",
    "X_test_new.drop(corelated_var,axis=1,inplace=True)\n"
   ]
  },
  {
   "cell_type": "code",
   "execution_count": 139,
   "metadata": {},
   "outputs": [
    {
     "name": "stderr",
     "output_type": "stream",
     "text": [
      "/home/saksham/.local/lib/python3.6/site-packages/sklearn/preprocessing/label.py:151: DeprecationWarning: The truth value of an empty array is ambiguous. Returning False, but in future this will result in an error. Use `array.size > 0` to check that an array is not empty.\n",
      "  if diff:\n",
      "/home/saksham/.local/lib/python3.6/site-packages/sklearn/preprocessing/label.py:151: DeprecationWarning: The truth value of an empty array is ambiguous. Returning False, but in future this will result in an error. Use `array.size > 0` to check that an array is not empty.\n",
      "  if diff:\n",
      "/home/saksham/.local/lib/python3.6/site-packages/sklearn/preprocessing/label.py:151: DeprecationWarning: The truth value of an empty array is ambiguous. Returning False, but in future this will result in an error. Use `array.size > 0` to check that an array is not empty.\n",
      "  if diff:\n",
      "/home/saksham/.local/lib/python3.6/site-packages/sklearn/preprocessing/label.py:151: DeprecationWarning: The truth value of an empty array is ambiguous. Returning False, but in future this will result in an error. Use `array.size > 0` to check that an array is not empty.\n",
      "  if diff:\n",
      "/home/saksham/.local/lib/python3.6/site-packages/sklearn/preprocessing/label.py:151: DeprecationWarning: The truth value of an empty array is ambiguous. Returning False, but in future this will result in an error. Use `array.size > 0` to check that an array is not empty.\n",
      "  if diff:\n",
      "/home/saksham/.local/lib/python3.6/site-packages/sklearn/preprocessing/label.py:151: DeprecationWarning: The truth value of an empty array is ambiguous. Returning False, but in future this will result in an error. Use `array.size > 0` to check that an array is not empty.\n",
      "  if diff:\n",
      "/home/saksham/.local/lib/python3.6/site-packages/sklearn/preprocessing/label.py:151: DeprecationWarning: The truth value of an empty array is ambiguous. Returning False, but in future this will result in an error. Use `array.size > 0` to check that an array is not empty.\n",
      "  if diff:\n",
      "/home/saksham/.local/lib/python3.6/site-packages/sklearn/preprocessing/label.py:151: DeprecationWarning: The truth value of an empty array is ambiguous. Returning False, but in future this will result in an error. Use `array.size > 0` to check that an array is not empty.\n",
      "  if diff:\n"
     ]
    },
    {
     "name": "stdout",
     "output_type": "stream",
     "text": [
      "[0.6862745098039216, 0.7610619469026548, 0.6534653465346535, 0.7758620689655172, 0.7894736842105263]\n",
      "Accuarcy is 0.7332275112834548\n"
     ]
    },
    {
     "name": "stderr",
     "output_type": "stream",
     "text": [
      "/home/saksham/.local/lib/python3.6/site-packages/sklearn/preprocessing/label.py:151: DeprecationWarning: The truth value of an empty array is ambiguous. Returning False, but in future this will result in an error. Use `array.size > 0` to check that an array is not empty.\n",
      "  if diff:\n",
      "/home/saksham/.local/lib/python3.6/site-packages/sklearn/preprocessing/label.py:151: DeprecationWarning: The truth value of an empty array is ambiguous. Returning False, but in future this will result in an error. Use `array.size > 0` to check that an array is not empty.\n",
      "  if diff:\n"
     ]
    }
   ],
   "source": [
    "prediction,acc=Kfold_split(clf,X_train_new,Y_train,X_test_new)"
   ]
  },
  {
   "cell_type": "code",
   "execution_count": 148,
   "metadata": {},
   "outputs": [
    {
     "data": {
      "text/plain": [
       "Index(['total_facebook_statuses', 'account_membership_period',\n",
       "       'service_support_calls', 'number_of_snaps', 'total_whatsapp_charge',\n",
       "       'sub_country_code', 'total_twitter_tweets', 'country',\n",
       "       'total_email_characters', 'email_plan', 'total_whatsapp_msg_characters',\n",
       "       'social_account_number', 'total_whatsapp_msgs', 'total_facebook_charge',\n",
       "       'total_twitter_charge', 'snapchat_plan', 'total_email_charge',\n",
       "       'total_twitter_tweet_characters', 'total_emails',\n",
       "       'total_facebook_status_characters'],\n",
       "      dtype='object')"
      ]
     },
     "execution_count": 148,
     "metadata": {},
     "output_type": "execute_result"
    }
   ],
   "source": [
    "train.columns"
   ]
  },
  {
   "cell_type": "code",
   "execution_count": 163,
   "metadata": {},
   "outputs": [
    {
     "data": {
      "text/html": [
       "<div>\n",
       "<style scoped>\n",
       "    .dataframe tbody tr th:only-of-type {\n",
       "        vertical-align: middle;\n",
       "    }\n",
       "\n",
       "    .dataframe tbody tr th {\n",
       "        vertical-align: top;\n",
       "    }\n",
       "\n",
       "    .dataframe thead th {\n",
       "        text-align: right;\n",
       "    }\n",
       "</style>\n",
       "<table border=\"1\" class=\"dataframe\">\n",
       "  <thead>\n",
       "    <tr style=\"text-align: right;\">\n",
       "      <th></th>\n",
       "      <th>total_facebook_statuses</th>\n",
       "      <th>account_membership_period</th>\n",
       "      <th>service_support_calls</th>\n",
       "      <th>number_of_snaps</th>\n",
       "      <th>total_whatsapp_charge</th>\n",
       "      <th>sub_country_code</th>\n",
       "      <th>total_twitter_tweets</th>\n",
       "      <th>total_email_characters</th>\n",
       "      <th>total_whatsapp_msg_characters</th>\n",
       "      <th>total_whatsapp_msgs</th>\n",
       "      <th>total_facebook_charge</th>\n",
       "      <th>total_twitter_charge</th>\n",
       "      <th>total_email_charge</th>\n",
       "      <th>total_twitter_tweet_characters</th>\n",
       "      <th>total_emails</th>\n",
       "      <th>total_facebook_status_characters</th>\n",
       "    </tr>\n",
       "  </thead>\n",
       "  <tbody>\n",
       "    <tr>\n",
       "      <th>count</th>\n",
       "      <td>2233.000000</td>\n",
       "      <td>2233.000000</td>\n",
       "      <td>2233.000000</td>\n",
       "      <td>2233.000000</td>\n",
       "      <td>2233.000000</td>\n",
       "      <td>2233.000000</td>\n",
       "      <td>2233.000000</td>\n",
       "      <td>2233.000000</td>\n",
       "      <td>2233.000000</td>\n",
       "      <td>2233.000000</td>\n",
       "      <td>2233.000000</td>\n",
       "      <td>2233.000000</td>\n",
       "      <td>2233.000000</td>\n",
       "      <td>2233.000000</td>\n",
       "      <td>2233.000000</td>\n",
       "      <td>2233.000000</td>\n",
       "    </tr>\n",
       "    <tr>\n",
       "      <th>mean</th>\n",
       "      <td>100.699955</td>\n",
       "      <td>100.511867</td>\n",
       "      <td>1.564263</td>\n",
       "      <td>8.069413</td>\n",
       "      <td>9.044572</td>\n",
       "      <td>436.746082</td>\n",
       "      <td>100.343932</td>\n",
       "      <td>10.244990</td>\n",
       "      <td>200.785132</td>\n",
       "      <td>99.876847</td>\n",
       "      <td>30.614344</td>\n",
       "      <td>17.094734</td>\n",
       "      <td>2.762064</td>\n",
       "      <td>201.945319</td>\n",
       "      <td>4.454993</td>\n",
       "      <td>179.861843</td>\n",
       "    </tr>\n",
       "    <tr>\n",
       "      <th>std</th>\n",
       "      <td>20.010022</td>\n",
       "      <td>39.901300</td>\n",
       "      <td>1.326769</td>\n",
       "      <td>13.725095</td>\n",
       "      <td>2.189439</td>\n",
       "      <td>42.135476</td>\n",
       "      <td>20.016748</td>\n",
       "      <td>2.651688</td>\n",
       "      <td>50.981357</td>\n",
       "      <td>19.544787</td>\n",
       "      <td>9.261162</td>\n",
       "      <td>4.309337</td>\n",
       "      <td>0.752724</td>\n",
       "      <td>48.027131</td>\n",
       "      <td>2.451659</td>\n",
       "      <td>51.413334</td>\n",
       "    </tr>\n",
       "    <tr>\n",
       "      <th>min</th>\n",
       "      <td>30.000000</td>\n",
       "      <td>1.000000</td>\n",
       "      <td>0.000000</td>\n",
       "      <td>0.000000</td>\n",
       "      <td>1.040000</td>\n",
       "      <td>408.000000</td>\n",
       "      <td>0.000000</td>\n",
       "      <td>0.000000</td>\n",
       "      <td>23.200000</td>\n",
       "      <td>33.000000</td>\n",
       "      <td>0.440000</td>\n",
       "      <td>0.000000</td>\n",
       "      <td>0.000000</td>\n",
       "      <td>0.000000</td>\n",
       "      <td>0.000000</td>\n",
       "      <td>2.600000</td>\n",
       "    </tr>\n",
       "    <tr>\n",
       "      <th>25%</th>\n",
       "      <td>88.000000</td>\n",
       "      <td>73.000000</td>\n",
       "      <td>1.000000</td>\n",
       "      <td>0.000000</td>\n",
       "      <td>7.650000</td>\n",
       "      <td>408.000000</td>\n",
       "      <td>87.000000</td>\n",
       "      <td>8.700000</td>\n",
       "      <td>166.700000</td>\n",
       "      <td>86.000000</td>\n",
       "      <td>24.430000</td>\n",
       "      <td>14.150000</td>\n",
       "      <td>2.300000</td>\n",
       "      <td>169.900000</td>\n",
       "      <td>3.000000</td>\n",
       "      <td>147.700000</td>\n",
       "    </tr>\n",
       "    <tr>\n",
       "      <th>50%</th>\n",
       "      <td>101.000000</td>\n",
       "      <td>99.000000</td>\n",
       "      <td>1.000000</td>\n",
       "      <td>0.000000</td>\n",
       "      <td>9.044572</td>\n",
       "      <td>415.000000</td>\n",
       "      <td>100.000000</td>\n",
       "      <td>10.244990</td>\n",
       "      <td>201.400000</td>\n",
       "      <td>100.000000</td>\n",
       "      <td>30.480000</td>\n",
       "      <td>17.110000</td>\n",
       "      <td>2.780000</td>\n",
       "      <td>201.945319</td>\n",
       "      <td>4.000000</td>\n",
       "      <td>179.861843</td>\n",
       "    </tr>\n",
       "    <tr>\n",
       "      <th>75%</th>\n",
       "      <td>114.000000</td>\n",
       "      <td>127.000000</td>\n",
       "      <td>2.000000</td>\n",
       "      <td>19.000000</td>\n",
       "      <td>10.390000</td>\n",
       "      <td>415.000000</td>\n",
       "      <td>114.000000</td>\n",
       "      <td>11.800000</td>\n",
       "      <td>235.400000</td>\n",
       "      <td>113.000000</td>\n",
       "      <td>36.750000</td>\n",
       "      <td>19.930000</td>\n",
       "      <td>3.240000</td>\n",
       "      <td>230.500000</td>\n",
       "      <td>6.000000</td>\n",
       "      <td>210.800000</td>\n",
       "    </tr>\n",
       "    <tr>\n",
       "      <th>max</th>\n",
       "      <td>165.000000</td>\n",
       "      <td>232.000000</td>\n",
       "      <td>9.000000</td>\n",
       "      <td>50.000000</td>\n",
       "      <td>17.770000</td>\n",
       "      <td>510.000000</td>\n",
       "      <td>170.000000</td>\n",
       "      <td>20.000000</td>\n",
       "      <td>395.000000</td>\n",
       "      <td>175.000000</td>\n",
       "      <td>58.960000</td>\n",
       "      <td>30.910000</td>\n",
       "      <td>5.400000</td>\n",
       "      <td>363.700000</td>\n",
       "      <td>18.000000</td>\n",
       "      <td>346.800000</td>\n",
       "    </tr>\n",
       "  </tbody>\n",
       "</table>\n",
       "</div>"
      ],
      "text/plain": [
       "       total_facebook_statuses  account_membership_period  \\\n",
       "count              2233.000000                2233.000000   \n",
       "mean                100.699955                 100.511867   \n",
       "std                  20.010022                  39.901300   \n",
       "min                  30.000000                   1.000000   \n",
       "25%                  88.000000                  73.000000   \n",
       "50%                 101.000000                  99.000000   \n",
       "75%                 114.000000                 127.000000   \n",
       "max                 165.000000                 232.000000   \n",
       "\n",
       "       service_support_calls  number_of_snaps  total_whatsapp_charge  \\\n",
       "count            2233.000000      2233.000000            2233.000000   \n",
       "mean                1.564263         8.069413               9.044572   \n",
       "std                 1.326769        13.725095               2.189439   \n",
       "min                 0.000000         0.000000               1.040000   \n",
       "25%                 1.000000         0.000000               7.650000   \n",
       "50%                 1.000000         0.000000               9.044572   \n",
       "75%                 2.000000        19.000000              10.390000   \n",
       "max                 9.000000        50.000000              17.770000   \n",
       "\n",
       "       sub_country_code  total_twitter_tweets  total_email_characters  \\\n",
       "count       2233.000000           2233.000000             2233.000000   \n",
       "mean         436.746082            100.343932               10.244990   \n",
       "std           42.135476             20.016748                2.651688   \n",
       "min          408.000000              0.000000                0.000000   \n",
       "25%          408.000000             87.000000                8.700000   \n",
       "50%          415.000000            100.000000               10.244990   \n",
       "75%          415.000000            114.000000               11.800000   \n",
       "max          510.000000            170.000000               20.000000   \n",
       "\n",
       "       total_whatsapp_msg_characters  total_whatsapp_msgs  \\\n",
       "count                    2233.000000          2233.000000   \n",
       "mean                      200.785132            99.876847   \n",
       "std                        50.981357            19.544787   \n",
       "min                        23.200000            33.000000   \n",
       "25%                       166.700000            86.000000   \n",
       "50%                       201.400000           100.000000   \n",
       "75%                       235.400000           113.000000   \n",
       "max                       395.000000           175.000000   \n",
       "\n",
       "       total_facebook_charge  total_twitter_charge  total_email_charge  \\\n",
       "count            2233.000000           2233.000000         2233.000000   \n",
       "mean               30.614344             17.094734            2.762064   \n",
       "std                 9.261162              4.309337            0.752724   \n",
       "min                 0.440000              0.000000            0.000000   \n",
       "25%                24.430000             14.150000            2.300000   \n",
       "50%                30.480000             17.110000            2.780000   \n",
       "75%                36.750000             19.930000            3.240000   \n",
       "max                58.960000             30.910000            5.400000   \n",
       "\n",
       "       total_twitter_tweet_characters  total_emails  \\\n",
       "count                     2233.000000   2233.000000   \n",
       "mean                       201.945319      4.454993   \n",
       "std                         48.027131      2.451659   \n",
       "min                          0.000000      0.000000   \n",
       "25%                        169.900000      3.000000   \n",
       "50%                        201.945319      4.000000   \n",
       "75%                        230.500000      6.000000   \n",
       "max                        363.700000     18.000000   \n",
       "\n",
       "       total_facebook_status_characters  \n",
       "count                       2233.000000  \n",
       "mean                         179.861843  \n",
       "std                           51.413334  \n",
       "min                            2.600000  \n",
       "25%                          147.700000  \n",
       "50%                          179.861843  \n",
       "75%                          210.800000  \n",
       "max                          346.800000  "
      ]
     },
     "execution_count": 163,
     "metadata": {},
     "output_type": "execute_result"
    }
   ],
   "source": [
    "train.describe()"
   ]
  },
  {
   "cell_type": "code",
   "execution_count": 164,
   "metadata": {
    "collapsed": true
   },
   "outputs": [
    {
     "data": {
      "text/plain": [
       "0       11356.140000\n",
       "1        8361.853775\n",
       "2        6304.320000\n",
       "3        6749.400000\n",
       "4        3074.490000\n",
       "5       10036.320000\n",
       "6        1581.930000\n",
       "7        7620.360000\n",
       "8        5739.160000\n",
       "9        5594.390000\n",
       "10       4622.500623\n",
       "11       9603.000000\n",
       "12       9953.000000\n",
       "13       8348.460000\n",
       "14       2995.810000\n",
       "15       3854.160000\n",
       "16       5654.068055\n",
       "17       5428.220000\n",
       "18       8284.720000\n",
       "19       7747.580643\n",
       "20       8555.760000\n",
       "21       6555.950000\n",
       "22       9475.510000\n",
       "23       5303.620000\n",
       "24       2408.940000\n",
       "25       5780.457199\n",
       "26       5809.170000\n",
       "27       7188.480000\n",
       "28       7836.570000\n",
       "29      10425.600000\n",
       "            ...     \n",
       "2203     6032.880000\n",
       "2204     4476.720000\n",
       "2205     2256.240000\n",
       "2206     3076.920000\n",
       "2207     2962.250000\n",
       "2208     8355.900000\n",
       "2209     8179.160000\n",
       "2210     8315.580000\n",
       "2211     4664.700000\n",
       "2212     4139.460000\n",
       "2213     2245.800000\n",
       "2214     9153.000000\n",
       "2215     4390.080000\n",
       "2216     8152.608347\n",
       "2217     5128.560000\n",
       "2218     5330.460000\n",
       "2219     5448.240000\n",
       "2220     3042.340000\n",
       "2221     8292.550000\n",
       "2222     2439.902588\n",
       "2223     1832.440000\n",
       "2224     9199.410000\n",
       "2225     4592.440000\n",
       "2226     6104.700000\n",
       "2227     3069.150000\n",
       "2228     6910.520000\n",
       "2229     6223.000000\n",
       "2230     8385.810000\n",
       "2231     8361.900000\n",
       "2232     6545.880000\n",
       "Length: 2233, dtype: float64"
      ]
     },
     "execution_count": 164,
     "metadata": {},
     "output_type": "execute_result"
    }
   ],
   "source": [
    "X_train_new[\"all_charges\"]*X_train_new[\"account_membership_period\"]"
   ]
  },
  {
   "cell_type": "markdown",
   "metadata": {},
   "source": [
    "# Feature Engineering"
   ]
  },
  {
   "cell_type": "code",
   "execution_count": 369,
   "metadata": {},
   "outputs": [],
   "source": [
    "## Feature Engineering\n",
    "X_train_new=X_train.copy()\n",
    "X_test_new=X_test.copy()\n",
    "charges=[\"total_email_charge\",\"total_facebook_charge\",\"total_whatsapp_charge\",\"total_twitter_charge\"]\n",
    "characters=[\"total_whatsapp_msg_characters\",\"total_email_characters\",\"total_twitter_tweet_characters\",\"total_facebook_status_characters\"]\n",
    "activity=[\"total_facebook_statuses\",\"total_twitter_tweets\",\"total_whatsapp_msgs\",\"total_emails\"]\n",
    "\n",
    "X_train_new[\"all_charges\"]=X_train[charges].sum(axis=1)\n",
    "X_test_new[\"all_charges\"]=X_test[charges].sum(axis=1)\n",
    "\n",
    "\n",
    "# X_train_new[\"facebook\"]=X_train_new[\"total_facebook_status_characters\"]/X_train_new[\"total_facebook_statuses\"]\n",
    "# X_test_new[\"facebook\"]=X_test_new[\"total_facebook_status_characters\"]/X_test_new[\"total_facebook_statuses\"]\n",
    "# X_train_new[\"whatsapp\"]=X_train_new[\"total_whatsapp_msg_characters\"]/X_train_new[\"total_whatsapp_msgs\"]\n",
    "# X_test_new[\"whatsapp\"]=X_test_new[\"total_whatsapp_msg_characters\"]/X_test_new[\"total_whatsapp_msgs\"]\n",
    "# X_train_new[\"twitter\"]=X_train_new[\"total_twitter_tweet_characters\"]/X_train_new[\"total_twitter_tweets\"]\n",
    "# X_test_new[\"twitter\"]=X_test_new[\"total_twitter_tweet_characters\"]/X_test_new[\"total_twitter_tweets\"]\n",
    "# X_train_new[\"total\"]=X_train_new[[\"facebook\",\"whatsapp\",\"twitter\"]].sum(axis=1)\n",
    "# X_test_new[\"total\"]=X_test_new[[\"facebook\",\"whatsapp\",\"twitter\"]].sum(axis=1)\n",
    "# X_train_new[\"all_characters\"]=X_train[characters].sum(axis=1)\n",
    "# X_test_new[\"all_characters\"]=X_test[characters].sum(axis=1)\n",
    "# X_train_new[\"all_activity\"]=X_train[activity].sum(axis=1)\n",
    "# X_test_new[\"all_activity\"]=X_test[activity].sum(axis=1)\n"
   ]
  },
  {
   "cell_type": "code",
   "execution_count": 194,
   "metadata": {},
   "outputs": [
    {
     "data": {
      "text/plain": [
       "((2233, 23), (1100, 23))"
      ]
     },
     "execution_count": 194,
     "metadata": {},
     "output_type": "execute_result"
    }
   ],
   "source": [
    "(X_train_new.shape,X_test_new.shape)"
   ]
  },
  {
   "cell_type": "code",
   "execution_count": 370,
   "metadata": {},
   "outputs": [
    {
     "name": "stderr",
     "output_type": "stream",
     "text": [
      "/home/saksham/.local/lib/python3.6/site-packages/sklearn/preprocessing/label.py:151: DeprecationWarning: The truth value of an empty array is ambiguous. Returning False, but in future this will result in an error. Use `array.size > 0` to check that an array is not empty.\n",
      "  if diff:\n",
      "/home/saksham/.local/lib/python3.6/site-packages/sklearn/preprocessing/label.py:151: DeprecationWarning: The truth value of an empty array is ambiguous. Returning False, but in future this will result in an error. Use `array.size > 0` to check that an array is not empty.\n",
      "  if diff:\n",
      "/home/saksham/.local/lib/python3.6/site-packages/sklearn/preprocessing/label.py:151: DeprecationWarning: The truth value of an empty array is ambiguous. Returning False, but in future this will result in an error. Use `array.size > 0` to check that an array is not empty.\n",
      "  if diff:\n",
      "/home/saksham/.local/lib/python3.6/site-packages/sklearn/preprocessing/label.py:151: DeprecationWarning: The truth value of an empty array is ambiguous. Returning False, but in future this will result in an error. Use `array.size > 0` to check that an array is not empty.\n",
      "  if diff:\n",
      "/home/saksham/.local/lib/python3.6/site-packages/sklearn/preprocessing/label.py:151: DeprecationWarning: The truth value of an empty array is ambiguous. Returning False, but in future this will result in an error. Use `array.size > 0` to check that an array is not empty.\n",
      "  if diff:\n",
      "/home/saksham/.local/lib/python3.6/site-packages/sklearn/preprocessing/label.py:151: DeprecationWarning: The truth value of an empty array is ambiguous. Returning False, but in future this will result in an error. Use `array.size > 0` to check that an array is not empty.\n",
      "  if diff:\n",
      "/home/saksham/.local/lib/python3.6/site-packages/sklearn/preprocessing/label.py:151: DeprecationWarning: The truth value of an empty array is ambiguous. Returning False, but in future this will result in an error. Use `array.size > 0` to check that an array is not empty.\n",
      "  if diff:\n",
      "/home/saksham/.local/lib/python3.6/site-packages/sklearn/preprocessing/label.py:151: DeprecationWarning: The truth value of an empty array is ambiguous. Returning False, but in future this will result in an error. Use `array.size > 0` to check that an array is not empty.\n",
      "  if diff:\n"
     ]
    },
    {
     "name": "stdout",
     "output_type": "stream",
     "text": [
      "[0.8813559322033898, 0.8907563025210083, 0.8983050847457628, 0.9268292682926829, 0.9105691056910569]\n",
      "Accuarcy is 0.9015631386907801\n"
     ]
    },
    {
     "name": "stderr",
     "output_type": "stream",
     "text": [
      "/home/saksham/.local/lib/python3.6/site-packages/sklearn/preprocessing/label.py:151: DeprecationWarning: The truth value of an empty array is ambiguous. Returning False, but in future this will result in an error. Use `array.size > 0` to check that an array is not empty.\n",
      "  if diff:\n",
      "/home/saksham/.local/lib/python3.6/site-packages/sklearn/preprocessing/label.py:151: DeprecationWarning: The truth value of an empty array is ambiguous. Returning False, but in future this will result in an error. Use `array.size > 0` to check that an array is not empty.\n",
      "  if diff:\n"
     ]
    }
   ],
   "source": [
    "prediction,acc=Kfold_split(clf,X_train_new,Y_train,X_test_new)"
   ]
  },
  {
   "cell_type": "code",
   "execution_count": 147,
   "metadata": {},
   "outputs": [],
   "source": [
    "sub=pd.DataFrame(test[\"uid\"])\n",
    "sub[\"turn_anti_social\"]=prediction\n",
    "sub.to_csv(\"Hackearth/DS_Anti_Social_v1/submission_3.csv\",index=False)"
   ]
  },
  {
   "cell_type": "code",
   "execution_count": 239,
   "metadata": {},
   "outputs": [
    {
     "data": {
      "text/plain": [
       "0    1910\n",
       "1     323\n",
       "Name: turn_anti_social, dtype: int64"
      ]
     },
     "execution_count": 239,
     "metadata": {},
     "output_type": "execute_result"
    }
   ],
   "source": [
    "Y_train.value_counts()"
   ]
  },
  {
   "cell_type": "code",
   "execution_count": 240,
   "metadata": {},
   "outputs": [
    {
     "data": {
      "text/plain": [
       "5.913312693498452"
      ]
     },
     "execution_count": 240,
     "metadata": {},
     "output_type": "execute_result"
    }
   ],
   "source": [
    "1910/323"
   ]
  },
  {
   "cell_type": "code",
   "execution_count": 442,
   "metadata": {},
   "outputs": [
    {
     "data": {
      "text/plain": [
       "XGBClassifier(base_score=0.5, booster='gbtree', colsample_bylevel=1,\n",
       "       colsample_bytree=0.6, eval_metric='auc', gamma=0,\n",
       "       learning_rate=0.01, max_delta_step=0, max_depth=3,\n",
       "       min_child_weight=1, missing=None, n_estimators=1000, n_jobs=1,\n",
       "       nthread=None, objective='binary:logistic', random_state=0,\n",
       "       reg_alpha=0, reg_lambda=1, scale_pos_weight=1, seed=None,\n",
       "       silent=True, subsample=1)"
      ]
     },
     "execution_count": 442,
     "metadata": {},
     "output_type": "execute_result"
    }
   ],
   "source": [
    "clf_xgb=XGBClassifier(n_estimators=1000,learning_rate=0.01,eval_metric=\"auc\",colsample_bytree=0.6)\n",
    "\n",
    "clf_xgb.fit(X_tr,y_tr)\n"
   ]
  },
  {
   "cell_type": "code",
   "execution_count": 443,
   "metadata": {},
   "outputs": [
    {
     "name": "stderr",
     "output_type": "stream",
     "text": [
      "/home/saksham/.local/lib/python3.6/site-packages/sklearn/preprocessing/label.py:151: DeprecationWarning: The truth value of an empty array is ambiguous. Returning False, but in future this will result in an error. Use `array.size > 0` to check that an array is not empty.\n",
      "  if diff:\n",
      "/home/saksham/.local/lib/python3.6/site-packages/sklearn/preprocessing/label.py:151: DeprecationWarning: The truth value of an empty array is ambiguous. Returning False, but in future this will result in an error. Use `array.size > 0` to check that an array is not empty.\n",
      "  if diff:\n",
      "/home/saksham/.local/lib/python3.6/site-packages/sklearn/preprocessing/label.py:151: DeprecationWarning: The truth value of an empty array is ambiguous. Returning False, but in future this will result in an error. Use `array.size > 0` to check that an array is not empty.\n",
      "  if diff:\n",
      "/home/saksham/.local/lib/python3.6/site-packages/sklearn/preprocessing/label.py:151: DeprecationWarning: The truth value of an empty array is ambiguous. Returning False, but in future this will result in an error. Use `array.size > 0` to check that an array is not empty.\n",
      "  if diff:\n",
      "/home/saksham/.local/lib/python3.6/site-packages/sklearn/preprocessing/label.py:151: DeprecationWarning: The truth value of an empty array is ambiguous. Returning False, but in future this will result in an error. Use `array.size > 0` to check that an array is not empty.\n",
      "  if diff:\n",
      "/home/saksham/.local/lib/python3.6/site-packages/sklearn/preprocessing/label.py:151: DeprecationWarning: The truth value of an empty array is ambiguous. Returning False, but in future this will result in an error. Use `array.size > 0` to check that an array is not empty.\n",
      "  if diff:\n",
      "/home/saksham/.local/lib/python3.6/site-packages/sklearn/preprocessing/label.py:151: DeprecationWarning: The truth value of an empty array is ambiguous. Returning False, but in future this will result in an error. Use `array.size > 0` to check that an array is not empty.\n",
      "  if diff:\n",
      "/home/saksham/.local/lib/python3.6/site-packages/sklearn/preprocessing/label.py:151: DeprecationWarning: The truth value of an empty array is ambiguous. Returning False, but in future this will result in an error. Use `array.size > 0` to check that an array is not empty.\n",
      "  if diff:\n"
     ]
    },
    {
     "name": "stdout",
     "output_type": "stream",
     "text": [
      "[0.8813559322033898, 0.8907563025210083, 0.8983050847457628, 0.9268292682926829, 0.9105691056910569]\n",
      "Accuarcy is 0.9015631386907801\n"
     ]
    },
    {
     "name": "stderr",
     "output_type": "stream",
     "text": [
      "/home/saksham/.local/lib/python3.6/site-packages/sklearn/preprocessing/label.py:151: DeprecationWarning: The truth value of an empty array is ambiguous. Returning False, but in future this will result in an error. Use `array.size > 0` to check that an array is not empty.\n",
      "  if diff:\n",
      "/home/saksham/.local/lib/python3.6/site-packages/sklearn/preprocessing/label.py:151: DeprecationWarning: The truth value of an empty array is ambiguous. Returning False, but in future this will result in an error. Use `array.size > 0` to check that an array is not empty.\n",
      "  if diff:\n"
     ]
    }
   ],
   "source": [
    "prediction,acc=Kfold_split(clf_xgb,X_train_new,Y_train,X_test_new)"
   ]
  },
  {
   "cell_type": "code",
   "execution_count": 252,
   "metadata": {},
   "outputs": [],
   "source": [
    "sub=pd.DataFrame(test[\"uid\"])\n",
    "sub[\"turn_anti_social\"]=prediction\n",
    "sub.to_csv(\"Hackearth/DS_Anti_Social_v1/submission_4.csv\",index=False)"
   ]
  },
  {
   "cell_type": "markdown",
   "metadata": {},
   "source": [
    "## LIGHT GBM"
   ]
  },
  {
   "cell_type": "code",
   "execution_count": 371,
   "metadata": {},
   "outputs": [],
   "source": [
    "# parameters for LightGBMClassifier\n",
    "params = {\n",
    "    'objective' :'binary',\n",
    "    'learning_rate' : 0.01,\n",
    "    'num_leaves' :76 ,\n",
    "    'feature_fraction': 0.8, \n",
    "    'bagging_fraction': 0.8, \n",
    "    'bagging_freq':1,\n",
    "    'boosting_type' : 'gbdt',\n",
    "    'metric': 'auc',\n",
    "    'is_unbalance':True,\n",
    "    'max_depth':7\n",
    "}"
   ]
  },
  {
   "cell_type": "code",
   "execution_count": 372,
   "metadata": {},
   "outputs": [],
   "source": [
    "import lightgbm as lgbm"
   ]
  },
  {
   "cell_type": "code",
   "execution_count": 334,
   "metadata": {},
   "outputs": [
    {
     "name": "stdout",
     "output_type": "stream",
     "text": [
      "Training until validation scores don't improve for 200 rounds.\n",
      "[50]\tvalid_0's auc: 0.899427\n",
      "[100]\tvalid_0's auc: 0.904902\n",
      "[150]\tvalid_0's auc: 0.907433\n",
      "[200]\tvalid_0's auc: 0.90968\n",
      "[250]\tvalid_0's auc: 0.912754\n",
      "[300]\tvalid_0's auc: 0.911876\n",
      "[350]\tvalid_0's auc: 0.911204\n",
      "[400]\tvalid_0's auc: 0.911437\n",
      "Early stopping, best iteration is:\n",
      "[243]\tvalid_0's auc: 0.913296\n"
     ]
    },
    {
     "data": {
      "text/plain": [
       "0.8051948051948052"
      ]
     },
     "execution_count": 334,
     "metadata": {},
     "output_type": "execute_result"
    }
   ],
   "source": [
    "d_train=lgbm.Dataset(X_tr,y_tr)\n",
    "d_val=lgbm.Dataset(X_val,y_val)\n",
    "bst = lgbm.train(params, d_train, 5000, valid_sets=[d_val], verbose_eval=50, early_stopping_rounds=200)\n",
    "pred=bst.predict(X_val)\n",
    "pred=[0 if i<.5 else 1 for i in pred]\n",
    "f1_score(y_val,pred)"
   ]
  },
  {
   "cell_type": "code",
   "execution_count": 305,
   "metadata": {},
   "outputs": [
    {
     "data": {
      "text/plain": [
       "0.8051948051948052"
      ]
     },
     "execution_count": 305,
     "metadata": {},
     "output_type": "execute_result"
    }
   ],
   "source": [
    "pred=bst.predict(X_val)\n",
    "pred=[0 if i<.5 else 1 for i in pred]\n",
    "f1_score(y_val,pred)"
   ]
  },
  {
   "cell_type": "code",
   "execution_count": 423,
   "metadata": {},
   "outputs": [],
   "source": [
    "def Kfold_split_lgbm(X,y,X_test,params,n=5):\n",
    "    kf=StratifiedKFold(n_splits=n)\n",
    "    accuarcy=[]\n",
    "    prediction=np.zeros(len(X_test))\n",
    "    for tr_indices,tt_indices in kf.split(X,y):\n",
    "        X_train,X_val=X.loc[tr_indices],X.loc[tt_indices]\n",
    "        y_train,y_val=y.loc[tr_indices],y.loc[tt_indices]\n",
    "        y_train.reset_index(drop=True,inplace=True)\n",
    "        y_val.reset_index(drop=True,inplace=True)\n",
    "        #print(y_train)\n",
    "        d_train=lgbm.Dataset(X_train,y_train)\n",
    "        d_val=lgbm.Dataset(X_val,y_val)\n",
    "        bst = lgbm.train(params, d_train, 5000, valid_sets=[d_val], verbose_eval=50, early_stopping_rounds=150)\n",
    "        pred=bst.predict(X_val)\n",
    "        pred=[0 if i<.5 else 1 for i in pred]\n",
    "        prediction+=[0 if i <.5 else 1 for i in bst.predict(X_test)]\n",
    "        \n",
    "        \n",
    "        #print(a)\n",
    "        s=f1_score(y_val,pred)\n",
    "        accuarcy.append(s)\n",
    "    print(accuarcy)\n",
    "    acc=sum(accuarcy)/len(accuarcy)\n",
    "    print(\"F1_score is {}\".format(acc))\n",
    "    prediction=[1 if i>2 else 0 for i in prediction  ]##This depends on n_folds\n",
    "    return (prediction,acc)\n",
    "    \n",
    "    "
   ]
  },
  {
   "cell_type": "code",
   "execution_count": 426,
   "metadata": {},
   "outputs": [],
   "source": [
    "# parameters for LightGBMClassifier\n",
    "params = {\n",
    "    'objective' :'binary',\n",
    "    'learning_rate' : 0.01,\n",
    "    #'num_leaves' :200 ,\n",
    "    #'feature_fraction': 0.8, \n",
    "    #'bagging_fraction': 0.8, \n",
    "    #'bagging_freq':1,\n",
    "    'boosting_type' : 'gbdt',\n",
    "    'metric': 'binary_logloss',\n",
    "    'is_unbalance':True,\n",
    "    'max_depth':9,\n",
    "    #'max_bin':400,\n",
    "    #\"min_data_in_leaf\":30\n",
    "}"
   ]
  },
  {
   "cell_type": "code",
   "execution_count": 427,
   "metadata": {
    "collapsed": true
   },
   "outputs": [
    {
     "name": "stdout",
     "output_type": "stream",
     "text": [
      "Training until validation scores don't improve for 150 rounds.\n",
      "[50]\tvalid_0's binary_logloss: 0.264419\n",
      "[100]\tvalid_0's binary_logloss: 0.222499\n",
      "[150]\tvalid_0's binary_logloss: 0.201358\n",
      "[200]\tvalid_0's binary_logloss: 0.184896\n",
      "[250]\tvalid_0's binary_logloss: 0.174596\n",
      "[300]\tvalid_0's binary_logloss: 0.167756\n",
      "[350]\tvalid_0's binary_logloss: 0.16178\n",
      "[400]\tvalid_0's binary_logloss: 0.160091\n",
      "[450]\tvalid_0's binary_logloss: 0.157193\n",
      "[500]\tvalid_0's binary_logloss: 0.156143\n",
      "[550]\tvalid_0's binary_logloss: 0.156874\n",
      "[600]\tvalid_0's binary_logloss: 0.158274\n",
      "Early stopping, best iteration is:\n",
      "[496]\tvalid_0's binary_logloss: 0.156069\n",
      "Training until validation scores don't improve for 150 rounds.\n",
      "[50]\tvalid_0's binary_logloss: 0.259437\n",
      "[100]\tvalid_0's binary_logloss: 0.213053\n",
      "[150]\tvalid_0's binary_logloss: 0.189697\n",
      "[200]\tvalid_0's binary_logloss: 0.177219\n",
      "[250]\tvalid_0's binary_logloss: 0.167011\n",
      "[300]\tvalid_0's binary_logloss: 0.159834\n",
      "[350]\tvalid_0's binary_logloss: 0.156066\n",
      "[400]\tvalid_0's binary_logloss: 0.151711\n",
      "[450]\tvalid_0's binary_logloss: 0.150685\n",
      "[500]\tvalid_0's binary_logloss: 0.151559\n",
      "[550]\tvalid_0's binary_logloss: 0.15339\n",
      "Early stopping, best iteration is:\n",
      "[428]\tvalid_0's binary_logloss: 0.150518\n",
      "Training until validation scores don't improve for 150 rounds.\n",
      "[50]\tvalid_0's binary_logloss: 0.26338\n",
      "[100]\tvalid_0's binary_logloss: 0.213943\n",
      "[150]\tvalid_0's binary_logloss: 0.191274\n",
      "[200]\tvalid_0's binary_logloss: 0.17471\n",
      "[250]\tvalid_0's binary_logloss: 0.161612\n",
      "[300]\tvalid_0's binary_logloss: 0.154046\n",
      "[350]\tvalid_0's binary_logloss: 0.149256\n",
      "[400]\tvalid_0's binary_logloss: 0.143225\n",
      "[450]\tvalid_0's binary_logloss: 0.139431\n",
      "[500]\tvalid_0's binary_logloss: 0.13598\n",
      "[550]\tvalid_0's binary_logloss: 0.13432\n",
      "[600]\tvalid_0's binary_logloss: 0.133314\n",
      "[650]\tvalid_0's binary_logloss: 0.134162\n",
      "[700]\tvalid_0's binary_logloss: 0.134241\n",
      "[750]\tvalid_0's binary_logloss: 0.135054\n",
      "Early stopping, best iteration is:\n",
      "[601]\tvalid_0's binary_logloss: 0.133182\n",
      "Training until validation scores don't improve for 150 rounds.\n",
      "[50]\tvalid_0's binary_logloss: 0.257364\n",
      "[100]\tvalid_0's binary_logloss: 0.212111\n",
      "[150]\tvalid_0's binary_logloss: 0.189556\n",
      "[200]\tvalid_0's binary_logloss: 0.175631\n",
      "[250]\tvalid_0's binary_logloss: 0.16457\n",
      "[300]\tvalid_0's binary_logloss: 0.155081\n",
      "[350]\tvalid_0's binary_logloss: 0.149673\n",
      "[400]\tvalid_0's binary_logloss: 0.144149\n",
      "[450]\tvalid_0's binary_logloss: 0.139464\n",
      "[500]\tvalid_0's binary_logloss: 0.136147\n",
      "[550]\tvalid_0's binary_logloss: 0.131803\n",
      "[600]\tvalid_0's binary_logloss: 0.127377\n",
      "[650]\tvalid_0's binary_logloss: 0.124755\n",
      "[700]\tvalid_0's binary_logloss: 0.123033\n",
      "[750]\tvalid_0's binary_logloss: 0.123308\n",
      "[800]\tvalid_0's binary_logloss: 0.123533\n",
      "[850]\tvalid_0's binary_logloss: 0.124587\n",
      "Early stopping, best iteration is:\n",
      "[722]\tvalid_0's binary_logloss: 0.122476\n",
      "Training until validation scores don't improve for 150 rounds.\n",
      "[50]\tvalid_0's binary_logloss: 0.255808\n",
      "[100]\tvalid_0's binary_logloss: 0.205315\n",
      "[150]\tvalid_0's binary_logloss: 0.179654\n",
      "[200]\tvalid_0's binary_logloss: 0.162947\n",
      "[250]\tvalid_0's binary_logloss: 0.152968\n",
      "[300]\tvalid_0's binary_logloss: 0.148463\n",
      "[350]\tvalid_0's binary_logloss: 0.146717\n",
      "[400]\tvalid_0's binary_logloss: 0.143806\n",
      "[450]\tvalid_0's binary_logloss: 0.14404\n",
      "[500]\tvalid_0's binary_logloss: 0.143553\n",
      "[550]\tvalid_0's binary_logloss: 0.142718\n",
      "[600]\tvalid_0's binary_logloss: 0.142336\n",
      "[650]\tvalid_0's binary_logloss: 0.142083\n",
      "[700]\tvalid_0's binary_logloss: 0.141713\n",
      "[750]\tvalid_0's binary_logloss: 0.141838\n",
      "[800]\tvalid_0's binary_logloss: 0.143258\n",
      "[850]\tvalid_0's binary_logloss: 0.145476\n",
      "Early stopping, best iteration is:\n",
      "[711]\tvalid_0's binary_logloss: 0.14149\n",
      "[0.8852459016393444, 0.8760330578512396, 0.8739495798319328, 0.9193548387096774, 0.9105691056910569]\n",
      "F1_score is 0.8930304967446503\n"
     ]
    }
   ],
   "source": [
    "prediction,acc=Kfold_split_lgbm(X_train_new,Y_train,X_test_new,params)"
   ]
  },
  {
   "cell_type": "code",
   "execution_count": 363,
   "metadata": {},
   "outputs": [
    {
     "data": {
      "text/plain": [
       "(2233, 21)"
      ]
     },
     "execution_count": 363,
     "metadata": {},
     "output_type": "execute_result"
    }
   ],
   "source": [
    "X_train_new.shape"
   ]
  },
  {
   "cell_type": "markdown",
   "metadata": {},
   "source": [
    "## Ensembling Random Forest , XGB  ,LightGBM"
   ]
  },
  {
   "cell_type": "code",
   "execution_count": 440,
   "metadata": {},
   "outputs": [
    {
     "name": "stdout",
     "output_type": "stream",
     "text": [
      "[0.8760330578512396, 0.8833333333333333, 0.8793103448275863, 0.8620689655172413, 0.9016393442622951]\n",
      "Accuarcy is 0.8804770091583392\n"
     ]
    }
   ],
   "source": [
    "clf_rndm=RandomForestClassifier(n_estimators=600,max_features=20)\n",
    "prediction_rndm,acc=Kfold_split(clf_rndm,X_train_new,Y_train,X_test_new)"
   ]
  },
  {
   "cell_type": "code",
   "execution_count": 441,
   "metadata": {
    "collapsed": true
   },
   "outputs": [
    {
     "name": "stdout",
     "output_type": "stream",
     "text": [
      "Training until validation scores don't improve for 150 rounds.\n",
      "[50]\tvalid_0's binary_logloss: 0.264419\n",
      "[100]\tvalid_0's binary_logloss: 0.222499\n",
      "[150]\tvalid_0's binary_logloss: 0.201358\n",
      "[200]\tvalid_0's binary_logloss: 0.184896\n",
      "[250]\tvalid_0's binary_logloss: 0.174596\n",
      "[300]\tvalid_0's binary_logloss: 0.167756\n",
      "[350]\tvalid_0's binary_logloss: 0.16178\n",
      "[400]\tvalid_0's binary_logloss: 0.160091\n",
      "[450]\tvalid_0's binary_logloss: 0.157193\n",
      "[500]\tvalid_0's binary_logloss: 0.156143\n",
      "[550]\tvalid_0's binary_logloss: 0.156874\n",
      "[600]\tvalid_0's binary_logloss: 0.158274\n",
      "Early stopping, best iteration is:\n",
      "[496]\tvalid_0's binary_logloss: 0.156069\n",
      "Training until validation scores don't improve for 150 rounds.\n",
      "[50]\tvalid_0's binary_logloss: 0.259437\n",
      "[100]\tvalid_0's binary_logloss: 0.213053\n",
      "[150]\tvalid_0's binary_logloss: 0.189697\n",
      "[200]\tvalid_0's binary_logloss: 0.177219\n",
      "[250]\tvalid_0's binary_logloss: 0.167011\n",
      "[300]\tvalid_0's binary_logloss: 0.159834\n",
      "[350]\tvalid_0's binary_logloss: 0.156066\n",
      "[400]\tvalid_0's binary_logloss: 0.151711\n",
      "[450]\tvalid_0's binary_logloss: 0.150685\n",
      "[500]\tvalid_0's binary_logloss: 0.151559\n",
      "[550]\tvalid_0's binary_logloss: 0.15339\n",
      "Early stopping, best iteration is:\n",
      "[428]\tvalid_0's binary_logloss: 0.150518\n",
      "Training until validation scores don't improve for 150 rounds.\n",
      "[50]\tvalid_0's binary_logloss: 0.26338\n",
      "[100]\tvalid_0's binary_logloss: 0.213943\n",
      "[150]\tvalid_0's binary_logloss: 0.191274\n",
      "[200]\tvalid_0's binary_logloss: 0.17471\n",
      "[250]\tvalid_0's binary_logloss: 0.161612\n",
      "[300]\tvalid_0's binary_logloss: 0.154046\n",
      "[350]\tvalid_0's binary_logloss: 0.149256\n",
      "[400]\tvalid_0's binary_logloss: 0.143225\n",
      "[450]\tvalid_0's binary_logloss: 0.139431\n",
      "[500]\tvalid_0's binary_logloss: 0.13598\n",
      "[550]\tvalid_0's binary_logloss: 0.13432\n",
      "[600]\tvalid_0's binary_logloss: 0.133314\n",
      "[650]\tvalid_0's binary_logloss: 0.134162\n",
      "[700]\tvalid_0's binary_logloss: 0.134241\n",
      "[750]\tvalid_0's binary_logloss: 0.135054\n",
      "Early stopping, best iteration is:\n",
      "[601]\tvalid_0's binary_logloss: 0.133182\n",
      "Training until validation scores don't improve for 150 rounds.\n",
      "[50]\tvalid_0's binary_logloss: 0.257364\n",
      "[100]\tvalid_0's binary_logloss: 0.212111\n",
      "[150]\tvalid_0's binary_logloss: 0.189556\n",
      "[200]\tvalid_0's binary_logloss: 0.175631\n",
      "[250]\tvalid_0's binary_logloss: 0.16457\n",
      "[300]\tvalid_0's binary_logloss: 0.155081\n",
      "[350]\tvalid_0's binary_logloss: 0.149673\n",
      "[400]\tvalid_0's binary_logloss: 0.144149\n",
      "[450]\tvalid_0's binary_logloss: 0.139464\n",
      "[500]\tvalid_0's binary_logloss: 0.136147\n",
      "[550]\tvalid_0's binary_logloss: 0.131803\n",
      "[600]\tvalid_0's binary_logloss: 0.127377\n",
      "[650]\tvalid_0's binary_logloss: 0.124755\n",
      "[700]\tvalid_0's binary_logloss: 0.123033\n",
      "[750]\tvalid_0's binary_logloss: 0.123308\n",
      "[800]\tvalid_0's binary_logloss: 0.123533\n",
      "[850]\tvalid_0's binary_logloss: 0.124587\n",
      "Early stopping, best iteration is:\n",
      "[722]\tvalid_0's binary_logloss: 0.122476\n",
      "Training until validation scores don't improve for 150 rounds.\n",
      "[50]\tvalid_0's binary_logloss: 0.255808\n",
      "[100]\tvalid_0's binary_logloss: 0.205315\n",
      "[150]\tvalid_0's binary_logloss: 0.179654\n",
      "[200]\tvalid_0's binary_logloss: 0.162947\n",
      "[250]\tvalid_0's binary_logloss: 0.152968\n",
      "[300]\tvalid_0's binary_logloss: 0.148463\n",
      "[350]\tvalid_0's binary_logloss: 0.146717\n",
      "[400]\tvalid_0's binary_logloss: 0.143806\n",
      "[450]\tvalid_0's binary_logloss: 0.14404\n",
      "[500]\tvalid_0's binary_logloss: 0.143553\n",
      "[550]\tvalid_0's binary_logloss: 0.142718\n",
      "[600]\tvalid_0's binary_logloss: 0.142336\n",
      "[650]\tvalid_0's binary_logloss: 0.142083\n",
      "[700]\tvalid_0's binary_logloss: 0.141713\n",
      "[750]\tvalid_0's binary_logloss: 0.141838\n",
      "[800]\tvalid_0's binary_logloss: 0.143258\n",
      "[850]\tvalid_0's binary_logloss: 0.145476\n",
      "Early stopping, best iteration is:\n",
      "[711]\tvalid_0's binary_logloss: 0.14149\n",
      "[0.8852459016393444, 0.8760330578512396, 0.8739495798319328, 0.9193548387096774, 0.9105691056910569]\n",
      "F1_score is 0.8930304967446503\n"
     ]
    }
   ],
   "source": [
    "prediction_lgbm,acc=Kfold_split_lgbm(X_train_new,Y_train,X_test_new,params)"
   ]
  },
  {
   "cell_type": "code",
   "execution_count": 444,
   "metadata": {
    "collapsed": true
   },
   "outputs": [
    {
     "name": "stderr",
     "output_type": "stream",
     "text": [
      "/home/saksham/.local/lib/python3.6/site-packages/sklearn/preprocessing/label.py:151: DeprecationWarning: The truth value of an empty array is ambiguous. Returning False, but in future this will result in an error. Use `array.size > 0` to check that an array is not empty.\n",
      "  if diff:\n",
      "/home/saksham/.local/lib/python3.6/site-packages/sklearn/preprocessing/label.py:151: DeprecationWarning: The truth value of an empty array is ambiguous. Returning False, but in future this will result in an error. Use `array.size > 0` to check that an array is not empty.\n",
      "  if diff:\n",
      "/home/saksham/.local/lib/python3.6/site-packages/sklearn/preprocessing/label.py:151: DeprecationWarning: The truth value of an empty array is ambiguous. Returning False, but in future this will result in an error. Use `array.size > 0` to check that an array is not empty.\n",
      "  if diff:\n",
      "/home/saksham/.local/lib/python3.6/site-packages/sklearn/preprocessing/label.py:151: DeprecationWarning: The truth value of an empty array is ambiguous. Returning False, but in future this will result in an error. Use `array.size > 0` to check that an array is not empty.\n",
      "  if diff:\n",
      "/home/saksham/.local/lib/python3.6/site-packages/sklearn/preprocessing/label.py:151: DeprecationWarning: The truth value of an empty array is ambiguous. Returning False, but in future this will result in an error. Use `array.size > 0` to check that an array is not empty.\n",
      "  if diff:\n",
      "/home/saksham/.local/lib/python3.6/site-packages/sklearn/preprocessing/label.py:151: DeprecationWarning: The truth value of an empty array is ambiguous. Returning False, but in future this will result in an error. Use `array.size > 0` to check that an array is not empty.\n",
      "  if diff:\n",
      "/home/saksham/.local/lib/python3.6/site-packages/sklearn/preprocessing/label.py:151: DeprecationWarning: The truth value of an empty array is ambiguous. Returning False, but in future this will result in an error. Use `array.size > 0` to check that an array is not empty.\n",
      "  if diff:\n",
      "/home/saksham/.local/lib/python3.6/site-packages/sklearn/preprocessing/label.py:151: DeprecationWarning: The truth value of an empty array is ambiguous. Returning False, but in future this will result in an error. Use `array.size > 0` to check that an array is not empty.\n",
      "  if diff:\n"
     ]
    },
    {
     "name": "stdout",
     "output_type": "stream",
     "text": [
      "[0.8813559322033898, 0.8907563025210083, 0.8983050847457628, 0.9268292682926829, 0.9105691056910569]\n",
      "Accuarcy is 0.9015631386907801\n"
     ]
    },
    {
     "name": "stderr",
     "output_type": "stream",
     "text": [
      "/home/saksham/.local/lib/python3.6/site-packages/sklearn/preprocessing/label.py:151: DeprecationWarning: The truth value of an empty array is ambiguous. Returning False, but in future this will result in an error. Use `array.size > 0` to check that an array is not empty.\n",
      "  if diff:\n",
      "/home/saksham/.local/lib/python3.6/site-packages/sklearn/preprocessing/label.py:151: DeprecationWarning: The truth value of an empty array is ambiguous. Returning False, but in future this will result in an error. Use `array.size > 0` to check that an array is not empty.\n",
      "  if diff:\n"
     ]
    }
   ],
   "source": [
    "prediction_xgb,acc=Kfold_split(clf_xgb,X_train_new,Y_train,X_test_new)"
   ]
  },
  {
   "cell_type": "code",
   "execution_count": 445,
   "metadata": {},
   "outputs": [],
   "source": [
    "ensemble=prediction_lgbm+prediction_rndm+prediction_xgb\n",
    "ensemble=[1 if i>1 else 0 for i in ensemble]\n"
   ]
  },
  {
   "cell_type": "code",
   "execution_count": 447,
   "metadata": {},
   "outputs": [],
   "source": [
    "sub=pd.DataFrame(test[\"uid\"])\n",
    "sub[\"turn_anti_social\"]=prediction\n",
    "sub.to_csv(\"Hackearth/DS_Anti_Social_v1/submission_5.csv\",index=False)"
   ]
  }
 ],
 "metadata": {
  "kernelspec": {
   "display_name": "Python 3",
   "language": "python",
   "name": "python3"
  },
  "language_info": {
   "codemirror_mode": {
    "name": "ipython",
    "version": 3
   },
   "file_extension": ".py",
   "mimetype": "text/x-python",
   "name": "python",
   "nbconvert_exporter": "python",
   "pygments_lexer": "ipython3",
   "version": "3.6.5"
  }
 },
 "nbformat": 4,
 "nbformat_minor": 2
}
